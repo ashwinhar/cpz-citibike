{
 "cells": [
  {
   "cell_type": "code",
   "execution_count": 2,
   "metadata": {},
   "outputs": [],
   "source": [
    "from src_components.data_load.load_duckdb import create_all_tables, create_polygon"
   ]
  },
  {
   "cell_type": "code",
   "execution_count": 3,
   "metadata": {},
   "outputs": [
    {
     "name": "stdout",
     "output_type": "stream",
     "text": [
      "Analyzing staging.202001_citibike_tripdata_2\n"
     ]
    },
    {
     "name": "stderr",
     "output_type": "stream",
     "text": [
      "/Users/Ashwin/Desktop/repos/cpz-citibike/src/src_components/data_load/load_duckdb.py:113: DtypeWarning: Columns (5,7) have mixed types. Specify dtype option on import or set low_memory=False.\n",
      "  pd.read_csv(os.path.join(month, file)),\n"
     ]
    },
    {
     "name": "stdout",
     "output_type": "stream",
     "text": [
      "Table with identifier staging.202001_citibike_tripdata_2 already exists\n",
      "Analyzing staging.202001_citibike_tripdata_1\n"
     ]
    },
    {
     "name": "stderr",
     "output_type": "stream",
     "text": [
      "/Users/Ashwin/Desktop/repos/cpz-citibike/src/src_components/data_load/load_duckdb.py:113: DtypeWarning: Columns (5,7) have mixed types. Specify dtype option on import or set low_memory=False.\n",
      "  pd.read_csv(os.path.join(month, file)),\n"
     ]
    },
    {
     "name": "stdout",
     "output_type": "stream",
     "text": [
      "Table with identifier staging.202001_citibike_tripdata_1 already exists\n",
      "Analyzing staging.202002_citibike_tripdata_1\n"
     ]
    },
    {
     "name": "stderr",
     "output_type": "stream",
     "text": [
      "/Users/Ashwin/Desktop/repos/cpz-citibike/src/src_components/data_load/load_duckdb.py:113: DtypeWarning: Columns (5,7) have mixed types. Specify dtype option on import or set low_memory=False.\n",
      "  pd.read_csv(os.path.join(month, file)),\n"
     ]
    },
    {
     "name": "stdout",
     "output_type": "stream",
     "text": [
      "Table with identifier staging.202002_citibike_tripdata_1 already exists\n",
      "Analyzing staging.202002_citibike_tripdata_2\n"
     ]
    },
    {
     "name": "stderr",
     "output_type": "stream",
     "text": [
      "/Users/Ashwin/Desktop/repos/cpz-citibike/src/src_components/data_load/load_duckdb.py:113: DtypeWarning: Columns (5) have mixed types. Specify dtype option on import or set low_memory=False.\n",
      "  pd.read_csv(os.path.join(month, file)),\n",
      "/Users/Ashwin/Desktop/repos/cpz-citibike/src/src_components/data_load/load_duckdb.py:113: DtypeWarning: Columns (5,7) have mixed types. Specify dtype option on import or set low_memory=False.\n",
      "  pd.read_csv(os.path.join(month, file)),\n"
     ]
    },
    {
     "name": "stdout",
     "output_type": "stream",
     "text": [
      "Table with identifier staging.202002_citibike_tripdata_2 already exists\n",
      "Analyzing staging.202003_citibike_tripdata_2\n",
      "Table with identifier staging.202003_citibike_tripdata_2 already exists\n",
      "Analyzing staging.202003_citibike_tripdata_1\n"
     ]
    },
    {
     "name": "stderr",
     "output_type": "stream",
     "text": [
      "/Users/Ashwin/Desktop/repos/cpz-citibike/src/src_components/data_load/load_duckdb.py:113: DtypeWarning: Columns (7) have mixed types. Specify dtype option on import or set low_memory=False.\n",
      "  pd.read_csv(os.path.join(month, file)),\n"
     ]
    },
    {
     "name": "stdout",
     "output_type": "stream",
     "text": [
      "Table with identifier staging.202003_citibike_tripdata_1 already exists\n",
      "Analyzing staging.202004_citibike_tripdata_1\n"
     ]
    },
    {
     "name": "stderr",
     "output_type": "stream",
     "text": [
      "/Users/Ashwin/Desktop/repos/cpz-citibike/src/src_components/data_load/load_duckdb.py:113: DtypeWarning: Columns (5,7) have mixed types. Specify dtype option on import or set low_memory=False.\n",
      "  pd.read_csv(os.path.join(month, file)),\n"
     ]
    },
    {
     "name": "stdout",
     "output_type": "stream",
     "text": [
      "Table with identifier staging.202004_citibike_tripdata_1 already exists\n",
      "Analyzing staging.202005_citibike_tripdata_2\n"
     ]
    },
    {
     "name": "stderr",
     "output_type": "stream",
     "text": [
      "/Users/Ashwin/Desktop/repos/cpz-citibike/src/src_components/data_load/load_duckdb.py:113: DtypeWarning: Columns (5,7) have mixed types. Specify dtype option on import or set low_memory=False.\n",
      "  pd.read_csv(os.path.join(month, file)),\n"
     ]
    },
    {
     "name": "stdout",
     "output_type": "stream",
     "text": [
      "Table with identifier staging.202005_citibike_tripdata_2 already exists\n",
      "Analyzing staging.202005_citibike_tripdata_1\n"
     ]
    },
    {
     "name": "stderr",
     "output_type": "stream",
     "text": [
      "/Users/Ashwin/Desktop/repos/cpz-citibike/src/src_components/data_load/load_duckdb.py:113: DtypeWarning: Columns (5,7) have mixed types. Specify dtype option on import or set low_memory=False.\n",
      "  pd.read_csv(os.path.join(month, file)),\n"
     ]
    },
    {
     "name": "stdout",
     "output_type": "stream",
     "text": [
      "Table with identifier staging.202005_citibike_tripdata_1 already exists\n",
      "Analyzing staging.202006_citibike_tripdata_1\n"
     ]
    },
    {
     "name": "stderr",
     "output_type": "stream",
     "text": [
      "/Users/Ashwin/Desktop/repos/cpz-citibike/src/src_components/data_load/load_duckdb.py:113: DtypeWarning: Columns (5,7) have mixed types. Specify dtype option on import or set low_memory=False.\n",
      "  pd.read_csv(os.path.join(month, file)),\n"
     ]
    },
    {
     "name": "stdout",
     "output_type": "stream",
     "text": [
      "Table with identifier staging.202006_citibike_tripdata_1 already exists\n",
      "Analyzing staging.202006_citibike_tripdata_2\n"
     ]
    },
    {
     "name": "stderr",
     "output_type": "stream",
     "text": [
      "/Users/Ashwin/Desktop/repos/cpz-citibike/src/src_components/data_load/load_duckdb.py:113: DtypeWarning: Columns (5,7) have mixed types. Specify dtype option on import or set low_memory=False.\n",
      "  pd.read_csv(os.path.join(month, file)),\n"
     ]
    },
    {
     "name": "stdout",
     "output_type": "stream",
     "text": [
      "Table with identifier staging.202006_citibike_tripdata_2 already exists\n",
      "Analyzing staging.202007_citibike_tripdata_2\n"
     ]
    },
    {
     "name": "stderr",
     "output_type": "stream",
     "text": [
      "/Users/Ashwin/Desktop/repos/cpz-citibike/src/src_components/data_load/load_duckdb.py:113: DtypeWarning: Columns (5,7) have mixed types. Specify dtype option on import or set low_memory=False.\n",
      "  pd.read_csv(os.path.join(month, file)),\n"
     ]
    },
    {
     "name": "stdout",
     "output_type": "stream",
     "text": [
      "Table with identifier staging.202007_citibike_tripdata_2 already exists\n",
      "Analyzing staging.202007_citibike_tripdata_3\n"
     ]
    },
    {
     "name": "stderr",
     "output_type": "stream",
     "text": [
      "/Users/Ashwin/Desktop/repos/cpz-citibike/src/src_components/data_load/load_duckdb.py:113: DtypeWarning: Columns (7) have mixed types. Specify dtype option on import or set low_memory=False.\n",
      "  pd.read_csv(os.path.join(month, file)),\n"
     ]
    },
    {
     "name": "stdout",
     "output_type": "stream",
     "text": [
      "Table with identifier staging.202007_citibike_tripdata_3 already exists\n",
      "Analyzing staging.202007_citibike_tripdata_1\n"
     ]
    },
    {
     "name": "stderr",
     "output_type": "stream",
     "text": [
      "/Users/Ashwin/Desktop/repos/cpz-citibike/src/src_components/data_load/load_duckdb.py:113: DtypeWarning: Columns (5,7) have mixed types. Specify dtype option on import or set low_memory=False.\n",
      "  pd.read_csv(os.path.join(month, file)),\n"
     ]
    },
    {
     "name": "stdout",
     "output_type": "stream",
     "text": [
      "Table with identifier staging.202007_citibike_tripdata_1 already exists\n",
      "Analyzing staging.202008_citibike_tripdata_3\n"
     ]
    },
    {
     "name": "stderr",
     "output_type": "stream",
     "text": [
      "/Users/Ashwin/Desktop/repos/cpz-citibike/src/src_components/data_load/load_duckdb.py:113: DtypeWarning: Columns (5,7) have mixed types. Specify dtype option on import or set low_memory=False.\n",
      "  pd.read_csv(os.path.join(month, file)),\n"
     ]
    },
    {
     "name": "stdout",
     "output_type": "stream",
     "text": [
      "Table with identifier staging.202008_citibike_tripdata_3 already exists\n",
      "Analyzing staging.202008_citibike_tripdata_2\n"
     ]
    },
    {
     "name": "stderr",
     "output_type": "stream",
     "text": [
      "/Users/Ashwin/Desktop/repos/cpz-citibike/src/src_components/data_load/load_duckdb.py:113: DtypeWarning: Columns (5,7) have mixed types. Specify dtype option on import or set low_memory=False.\n",
      "  pd.read_csv(os.path.join(month, file)),\n"
     ]
    },
    {
     "name": "stdout",
     "output_type": "stream",
     "text": [
      "Table with identifier staging.202008_citibike_tripdata_2 already exists\n",
      "Analyzing staging.202008_citibike_tripdata_1\n"
     ]
    },
    {
     "name": "stderr",
     "output_type": "stream",
     "text": [
      "/Users/Ashwin/Desktop/repos/cpz-citibike/src/src_components/data_load/load_duckdb.py:113: DtypeWarning: Columns (5,7) have mixed types. Specify dtype option on import or set low_memory=False.\n",
      "  pd.read_csv(os.path.join(month, file)),\n"
     ]
    },
    {
     "name": "stdout",
     "output_type": "stream",
     "text": [
      "Table with identifier staging.202008_citibike_tripdata_1 already exists\n",
      "Analyzing staging.202009_citibike_tripdata_1\n"
     ]
    },
    {
     "name": "stderr",
     "output_type": "stream",
     "text": [
      "/Users/Ashwin/Desktop/repos/cpz-citibike/src/src_components/data_load/load_duckdb.py:113: DtypeWarning: Columns (5,7) have mixed types. Specify dtype option on import or set low_memory=False.\n",
      "  pd.read_csv(os.path.join(month, file)),\n"
     ]
    },
    {
     "name": "stdout",
     "output_type": "stream",
     "text": [
      "Table with identifier staging.202009_citibike_tripdata_1 already exists\n",
      "Analyzing staging.202009_citibike_tripdata_2\n"
     ]
    },
    {
     "name": "stderr",
     "output_type": "stream",
     "text": [
      "/Users/Ashwin/Desktop/repos/cpz-citibike/src/src_components/data_load/load_duckdb.py:113: DtypeWarning: Columns (5,7) have mixed types. Specify dtype option on import or set low_memory=False.\n",
      "  pd.read_csv(os.path.join(month, file)),\n"
     ]
    },
    {
     "name": "stdout",
     "output_type": "stream",
     "text": [
      "Table with identifier staging.202009_citibike_tripdata_2 already exists\n",
      "Analyzing staging.202009_citibike_tripdata_3\n"
     ]
    },
    {
     "name": "stderr",
     "output_type": "stream",
     "text": [
      "/Users/Ashwin/Desktop/repos/cpz-citibike/src/src_components/data_load/load_duckdb.py:113: DtypeWarning: Columns (5,7) have mixed types. Specify dtype option on import or set low_memory=False.\n",
      "  pd.read_csv(os.path.join(month, file)),\n"
     ]
    },
    {
     "name": "stdout",
     "output_type": "stream",
     "text": [
      "Table with identifier staging.202009_citibike_tripdata_3 already exists\n",
      "Analyzing staging.202010_citibike_tripdata_1\n"
     ]
    },
    {
     "name": "stderr",
     "output_type": "stream",
     "text": [
      "/Users/Ashwin/Desktop/repos/cpz-citibike/src/src_components/data_load/load_duckdb.py:113: DtypeWarning: Columns (5,7) have mixed types. Specify dtype option on import or set low_memory=False.\n",
      "  pd.read_csv(os.path.join(month, file)),\n"
     ]
    },
    {
     "name": "stdout",
     "output_type": "stream",
     "text": [
      "Table with identifier staging.202010_citibike_tripdata_1 already exists\n",
      "Analyzing staging.202010_citibike_tripdata_2\n"
     ]
    },
    {
     "name": "stderr",
     "output_type": "stream",
     "text": [
      "/Users/Ashwin/Desktop/repos/cpz-citibike/src/src_components/data_load/load_duckdb.py:113: DtypeWarning: Columns (5,7) have mixed types. Specify dtype option on import or set low_memory=False.\n",
      "  pd.read_csv(os.path.join(month, file)),\n"
     ]
    },
    {
     "name": "stdout",
     "output_type": "stream",
     "text": [
      "Table with identifier staging.202010_citibike_tripdata_2 already exists\n",
      "Analyzing staging.202010_citibike_tripdata_3\n"
     ]
    },
    {
     "name": "stderr",
     "output_type": "stream",
     "text": [
      "/Users/Ashwin/Desktop/repos/cpz-citibike/src/src_components/data_load/load_duckdb.py:113: DtypeWarning: Columns (7) have mixed types. Specify dtype option on import or set low_memory=False.\n",
      "  pd.read_csv(os.path.join(month, file)),\n"
     ]
    },
    {
     "name": "stdout",
     "output_type": "stream",
     "text": [
      "Table with identifier staging.202010_citibike_tripdata_3 already exists\n",
      "Analyzing staging.202011_citibike_tripdata_2\n"
     ]
    },
    {
     "name": "stderr",
     "output_type": "stream",
     "text": [
      "/Users/Ashwin/Desktop/repos/cpz-citibike/src/src_components/data_load/load_duckdb.py:113: DtypeWarning: Columns (5,7) have mixed types. Specify dtype option on import or set low_memory=False.\n",
      "  pd.read_csv(os.path.join(month, file)),\n"
     ]
    },
    {
     "name": "stdout",
     "output_type": "stream",
     "text": [
      "Table with identifier staging.202011_citibike_tripdata_2 already exists\n",
      "Analyzing staging.202011_citibike_tripdata_1\n"
     ]
    },
    {
     "name": "stderr",
     "output_type": "stream",
     "text": [
      "/Users/Ashwin/Desktop/repos/cpz-citibike/src/src_components/data_load/load_duckdb.py:113: DtypeWarning: Columns (5,7) have mixed types. Specify dtype option on import or set low_memory=False.\n",
      "  pd.read_csv(os.path.join(month, file)),\n"
     ]
    },
    {
     "name": "stdout",
     "output_type": "stream",
     "text": [
      "Table with identifier staging.202011_citibike_tripdata_1 already exists\n",
      "Analyzing staging.202012_citibike_tripdata_1\n"
     ]
    },
    {
     "name": "stderr",
     "output_type": "stream",
     "text": [
      "/Users/Ashwin/Desktop/repos/cpz-citibike/src/src_components/data_load/load_duckdb.py:113: DtypeWarning: Columns (5,7) have mixed types. Specify dtype option on import or set low_memory=False.\n",
      "  pd.read_csv(os.path.join(month, file)),\n"
     ]
    },
    {
     "name": "stdout",
     "output_type": "stream",
     "text": [
      "Table with identifier staging.202012_citibike_tripdata_1 already exists\n",
      "Analyzing staging.202012_citibike_tripdata_2\n",
      "Table with identifier staging.202012_citibike_tripdata_2 already exists\n",
      "Analyzing staging.202101_citibike_tripdata_1\n"
     ]
    },
    {
     "name": "stderr",
     "output_type": "stream",
     "text": [
      "/Users/Ashwin/Desktop/repos/cpz-citibike/src/src_components/data_load/load_duckdb.py:113: DtypeWarning: Columns (5,7) have mixed types. Specify dtype option on import or set low_memory=False.\n",
      "  pd.read_csv(os.path.join(month, file)),\n"
     ]
    },
    {
     "name": "stdout",
     "output_type": "stream",
     "text": [
      "Table with identifier staging.202101_citibike_tripdata_1 already exists\n",
      "Analyzing staging.202101_citibike_tripdata_2\n",
      "Table with identifier staging.202101_citibike_tripdata_2 already exists\n",
      "Analyzing staging.202102_citibike_tripdata_1\n"
     ]
    },
    {
     "name": "stderr",
     "output_type": "stream",
     "text": [
      "/Users/Ashwin/Desktop/repos/cpz-citibike/src/src_components/data_load/load_duckdb.py:113: DtypeWarning: Columns (5,7) have mixed types. Specify dtype option on import or set low_memory=False.\n",
      "  pd.read_csv(os.path.join(month, file)),\n"
     ]
    },
    {
     "name": "stdout",
     "output_type": "stream",
     "text": [
      "Table with identifier staging.202102_citibike_tripdata_1 already exists\n",
      "Analyzing staging.202103_citibike_tripdata_1\n"
     ]
    },
    {
     "name": "stderr",
     "output_type": "stream",
     "text": [
      "/Users/Ashwin/Desktop/repos/cpz-citibike/src/src_components/data_load/load_duckdb.py:113: DtypeWarning: Columns (5,7) have mixed types. Specify dtype option on import or set low_memory=False.\n",
      "  pd.read_csv(os.path.join(month, file)),\n"
     ]
    },
    {
     "name": "stdout",
     "output_type": "stream",
     "text": [
      "Table with identifier staging.202103_citibike_tripdata_1 already exists\n",
      "Analyzing staging.202103_citibike_tripdata_2\n"
     ]
    },
    {
     "name": "stderr",
     "output_type": "stream",
     "text": [
      "/Users/Ashwin/Desktop/repos/cpz-citibike/src/src_components/data_load/load_duckdb.py:113: DtypeWarning: Columns (7) have mixed types. Specify dtype option on import or set low_memory=False.\n",
      "  pd.read_csv(os.path.join(month, file)),\n"
     ]
    },
    {
     "name": "stdout",
     "output_type": "stream",
     "text": [
      "Table with identifier staging.202103_citibike_tripdata_2 already exists\n",
      "Analyzing staging.202104_citibike_tripdata_3\n",
      "Table with identifier staging.202104_citibike_tripdata_3 already exists\n",
      "Analyzing staging.202104_citibike_tripdata_2\n"
     ]
    },
    {
     "name": "stderr",
     "output_type": "stream",
     "text": [
      "/Users/Ashwin/Desktop/repos/cpz-citibike/src/src_components/data_load/load_duckdb.py:113: DtypeWarning: Columns (7) have mixed types. Specify dtype option on import or set low_memory=False.\n",
      "  pd.read_csv(os.path.join(month, file)),\n"
     ]
    },
    {
     "name": "stdout",
     "output_type": "stream",
     "text": [
      "Table with identifier staging.202104_citibike_tripdata_2 already exists\n",
      "Analyzing staging.202104_citibike_tripdata_1\n"
     ]
    },
    {
     "name": "stderr",
     "output_type": "stream",
     "text": [
      "/Users/Ashwin/Desktop/repos/cpz-citibike/src/src_components/data_load/load_duckdb.py:113: DtypeWarning: Columns (5,7) have mixed types. Specify dtype option on import or set low_memory=False.\n",
      "  pd.read_csv(os.path.join(month, file)),\n"
     ]
    },
    {
     "name": "stdout",
     "output_type": "stream",
     "text": [
      "Table with identifier staging.202104_citibike_tripdata_1 already exists\n",
      "Analyzing staging.202105_citibike_tripdata_1\n"
     ]
    },
    {
     "name": "stderr",
     "output_type": "stream",
     "text": [
      "/Users/Ashwin/Desktop/repos/cpz-citibike/src/src_components/data_load/load_duckdb.py:113: DtypeWarning: Columns (5,7) have mixed types. Specify dtype option on import or set low_memory=False.\n",
      "  pd.read_csv(os.path.join(month, file)),\n"
     ]
    },
    {
     "name": "stdout",
     "output_type": "stream",
     "text": [
      "Table with identifier staging.202105_citibike_tripdata_1 already exists\n",
      "Analyzing staging.202105_citibike_tripdata_2\n"
     ]
    },
    {
     "name": "stderr",
     "output_type": "stream",
     "text": [
      "/Users/Ashwin/Desktop/repos/cpz-citibike/src/src_components/data_load/load_duckdb.py:113: DtypeWarning: Columns (7) have mixed types. Specify dtype option on import or set low_memory=False.\n",
      "  pd.read_csv(os.path.join(month, file)),\n"
     ]
    },
    {
     "name": "stdout",
     "output_type": "stream",
     "text": [
      "Table with identifier staging.202105_citibike_tripdata_2 already exists\n",
      "Analyzing staging.202105_citibike_tripdata_3\n"
     ]
    },
    {
     "name": "stderr",
     "output_type": "stream",
     "text": [
      "/Users/Ashwin/Desktop/repos/cpz-citibike/src/src_components/data_load/load_duckdb.py:113: DtypeWarning: Columns (7) have mixed types. Specify dtype option on import or set low_memory=False.\n",
      "  pd.read_csv(os.path.join(month, file)),\n"
     ]
    },
    {
     "name": "stdout",
     "output_type": "stream",
     "text": [
      "Table with identifier staging.202105_citibike_tripdata_3 already exists\n",
      "Analyzing staging.202106_citibike_tripdata_2\n"
     ]
    },
    {
     "name": "stderr",
     "output_type": "stream",
     "text": [
      "/Users/Ashwin/Desktop/repos/cpz-citibike/src/src_components/data_load/load_duckdb.py:113: DtypeWarning: Columns (7) have mixed types. Specify dtype option on import or set low_memory=False.\n",
      "  pd.read_csv(os.path.join(month, file)),\n"
     ]
    },
    {
     "name": "stdout",
     "output_type": "stream",
     "text": [
      "Table with identifier staging.202106_citibike_tripdata_2 already exists\n",
      "Analyzing staging.202106_citibike_tripdata_3\n"
     ]
    },
    {
     "name": "stderr",
     "output_type": "stream",
     "text": [
      "/Users/Ashwin/Desktop/repos/cpz-citibike/src/src_components/data_load/load_duckdb.py:113: DtypeWarning: Columns (7) have mixed types. Specify dtype option on import or set low_memory=False.\n",
      "  pd.read_csv(os.path.join(month, file)),\n"
     ]
    },
    {
     "name": "stdout",
     "output_type": "stream",
     "text": [
      "Table with identifier staging.202106_citibike_tripdata_3 already exists\n",
      "Analyzing staging.202106_citibike_tripdata_1\n"
     ]
    },
    {
     "name": "stderr",
     "output_type": "stream",
     "text": [
      "/Users/Ashwin/Desktop/repos/cpz-citibike/src/src_components/data_load/load_duckdb.py:113: DtypeWarning: Columns (7) have mixed types. Specify dtype option on import or set low_memory=False.\n",
      "  pd.read_csv(os.path.join(month, file)),\n"
     ]
    },
    {
     "name": "stdout",
     "output_type": "stream",
     "text": [
      "Table with identifier staging.202106_citibike_tripdata_1 already exists\n",
      "Analyzing staging.202106_citibike_tripdata_4\n"
     ]
    },
    {
     "name": "stderr",
     "output_type": "stream",
     "text": [
      "/Users/Ashwin/Desktop/repos/cpz-citibike/src/src_components/data_load/load_duckdb.py:113: DtypeWarning: Columns (7) have mixed types. Specify dtype option on import or set low_memory=False.\n",
      "  pd.read_csv(os.path.join(month, file)),\n"
     ]
    },
    {
     "name": "stdout",
     "output_type": "stream",
     "text": [
      "Table with identifier staging.202106_citibike_tripdata_4 already exists\n",
      "Analyzing staging.202107_citibike_tripdata_4\n",
      "Table with identifier staging.202107_citibike_tripdata_4 already exists\n",
      "Analyzing staging.202107_citibike_tripdata_1\n"
     ]
    },
    {
     "name": "stderr",
     "output_type": "stream",
     "text": [
      "/Users/Ashwin/Desktop/repos/cpz-citibike/src/src_components/data_load/load_duckdb.py:113: DtypeWarning: Columns (7) have mixed types. Specify dtype option on import or set low_memory=False.\n",
      "  pd.read_csv(os.path.join(month, file)),\n"
     ]
    },
    {
     "name": "stdout",
     "output_type": "stream",
     "text": [
      "Table with identifier staging.202107_citibike_tripdata_1 already exists\n",
      "Analyzing staging.202107_citibike_tripdata_3\n"
     ]
    },
    {
     "name": "stderr",
     "output_type": "stream",
     "text": [
      "/Users/Ashwin/Desktop/repos/cpz-citibike/src/src_components/data_load/load_duckdb.py:113: DtypeWarning: Columns (7) have mixed types. Specify dtype option on import or set low_memory=False.\n",
      "  pd.read_csv(os.path.join(month, file)),\n"
     ]
    },
    {
     "name": "stdout",
     "output_type": "stream",
     "text": [
      "Table with identifier staging.202107_citibike_tripdata_3 already exists\n",
      "Analyzing staging.202107_citibike_tripdata_2\n"
     ]
    },
    {
     "name": "stderr",
     "output_type": "stream",
     "text": [
      "/Users/Ashwin/Desktop/repos/cpz-citibike/src/src_components/data_load/load_duckdb.py:113: DtypeWarning: Columns (7) have mixed types. Specify dtype option on import or set low_memory=False.\n",
      "  pd.read_csv(os.path.join(month, file)),\n"
     ]
    },
    {
     "name": "stdout",
     "output_type": "stream",
     "text": [
      "Table with identifier staging.202107_citibike_tripdata_2 already exists\n",
      "Analyzing staging.202108_citibike_tripdata_4\n",
      "Table with identifier staging.202108_citibike_tripdata_4 already exists\n",
      "Analyzing staging.202108_citibike_tripdata_1\n"
     ]
    },
    {
     "name": "stderr",
     "output_type": "stream",
     "text": [
      "/Users/Ashwin/Desktop/repos/cpz-citibike/src/src_components/data_load/load_duckdb.py:113: DtypeWarning: Columns (7) have mixed types. Specify dtype option on import or set low_memory=False.\n",
      "  pd.read_csv(os.path.join(month, file)),\n"
     ]
    },
    {
     "name": "stdout",
     "output_type": "stream",
     "text": [
      "Table with identifier staging.202108_citibike_tripdata_1 already exists\n",
      "Analyzing staging.202108_citibike_tripdata_2\n"
     ]
    },
    {
     "name": "stderr",
     "output_type": "stream",
     "text": [
      "/Users/Ashwin/Desktop/repos/cpz-citibike/src/src_components/data_load/load_duckdb.py:113: DtypeWarning: Columns (7) have mixed types. Specify dtype option on import or set low_memory=False.\n",
      "  pd.read_csv(os.path.join(month, file)),\n"
     ]
    },
    {
     "name": "stdout",
     "output_type": "stream",
     "text": [
      "Table with identifier staging.202108_citibike_tripdata_2 already exists\n",
      "Analyzing staging.202108_citibike_tripdata_3\n"
     ]
    },
    {
     "name": "stderr",
     "output_type": "stream",
     "text": [
      "/Users/Ashwin/Desktop/repos/cpz-citibike/src/src_components/data_load/load_duckdb.py:113: DtypeWarning: Columns (7) have mixed types. Specify dtype option on import or set low_memory=False.\n",
      "  pd.read_csv(os.path.join(month, file)),\n"
     ]
    },
    {
     "name": "stdout",
     "output_type": "stream",
     "text": [
      "Table with identifier staging.202108_citibike_tripdata_3 already exists\n",
      "Analyzing staging.202109_citibike_tripdata_3\n"
     ]
    },
    {
     "name": "stderr",
     "output_type": "stream",
     "text": [
      "/Users/Ashwin/Desktop/repos/cpz-citibike/src/src_components/data_load/load_duckdb.py:113: DtypeWarning: Columns (7) have mixed types. Specify dtype option on import or set low_memory=False.\n",
      "  pd.read_csv(os.path.join(month, file)),\n"
     ]
    },
    {
     "name": "stdout",
     "output_type": "stream",
     "text": [
      "Table with identifier staging.202109_citibike_tripdata_3 already exists\n",
      "Analyzing staging.202109_citibike_tripdata_2\n"
     ]
    },
    {
     "name": "stderr",
     "output_type": "stream",
     "text": [
      "/Users/Ashwin/Desktop/repos/cpz-citibike/src/src_components/data_load/load_duckdb.py:113: DtypeWarning: Columns (7) have mixed types. Specify dtype option on import or set low_memory=False.\n",
      "  pd.read_csv(os.path.join(month, file)),\n"
     ]
    },
    {
     "name": "stdout",
     "output_type": "stream",
     "text": [
      "Table with identifier staging.202109_citibike_tripdata_2 already exists\n",
      "Analyzing staging.202109_citibike_tripdata_1\n"
     ]
    },
    {
     "name": "stderr",
     "output_type": "stream",
     "text": [
      "/Users/Ashwin/Desktop/repos/cpz-citibike/src/src_components/data_load/load_duckdb.py:113: DtypeWarning: Columns (7) have mixed types. Specify dtype option on import or set low_memory=False.\n",
      "  pd.read_csv(os.path.join(month, file)),\n"
     ]
    },
    {
     "name": "stdout",
     "output_type": "stream",
     "text": [
      "Table with identifier staging.202109_citibike_tripdata_1 already exists\n",
      "Analyzing staging.202109_citibike_tripdata_4\n"
     ]
    },
    {
     "name": "stderr",
     "output_type": "stream",
     "text": [
      "/Users/Ashwin/Desktop/repos/cpz-citibike/src/src_components/data_load/load_duckdb.py:113: DtypeWarning: Columns (7) have mixed types. Specify dtype option on import or set low_memory=False.\n",
      "  pd.read_csv(os.path.join(month, file)),\n"
     ]
    },
    {
     "name": "stdout",
     "output_type": "stream",
     "text": [
      "Table with identifier staging.202109_citibike_tripdata_4 already exists\n",
      "Analyzing staging.202110_citibike_tripdata_3\n"
     ]
    },
    {
     "name": "stderr",
     "output_type": "stream",
     "text": [
      "/Users/Ashwin/Desktop/repos/cpz-citibike/src/src_components/data_load/load_duckdb.py:113: DtypeWarning: Columns (5,7) have mixed types. Specify dtype option on import or set low_memory=False.\n",
      "  pd.read_csv(os.path.join(month, file)),\n"
     ]
    },
    {
     "name": "stdout",
     "output_type": "stream",
     "text": [
      "Table with identifier staging.202110_citibike_tripdata_3 already exists\n",
      "Analyzing staging.202110_citibike_tripdata_2\n"
     ]
    },
    {
     "name": "stderr",
     "output_type": "stream",
     "text": [
      "/Users/Ashwin/Desktop/repos/cpz-citibike/src/src_components/data_load/load_duckdb.py:113: DtypeWarning: Columns (5,7) have mixed types. Specify dtype option on import or set low_memory=False.\n",
      "  pd.read_csv(os.path.join(month, file)),\n"
     ]
    },
    {
     "name": "stdout",
     "output_type": "stream",
     "text": [
      "Table with identifier staging.202110_citibike_tripdata_2 already exists\n",
      "Analyzing staging.202110_citibike_tripdata_1\n"
     ]
    },
    {
     "name": "stderr",
     "output_type": "stream",
     "text": [
      "/Users/Ashwin/Desktop/repos/cpz-citibike/src/src_components/data_load/load_duckdb.py:113: DtypeWarning: Columns (5,7) have mixed types. Specify dtype option on import or set low_memory=False.\n",
      "  pd.read_csv(os.path.join(month, file)),\n"
     ]
    },
    {
     "name": "stdout",
     "output_type": "stream",
     "text": [
      "Table with identifier staging.202110_citibike_tripdata_1 already exists\n",
      "Analyzing staging.202110_citibike_tripdata_4\n",
      "Table with identifier staging.202110_citibike_tripdata_4 already exists\n",
      "Analyzing staging.202111_citibike_tripdata_1\n"
     ]
    },
    {
     "name": "stderr",
     "output_type": "stream",
     "text": [
      "/Users/Ashwin/Desktop/repos/cpz-citibike/src/src_components/data_load/load_duckdb.py:113: DtypeWarning: Columns (5,7) have mixed types. Specify dtype option on import or set low_memory=False.\n",
      "  pd.read_csv(os.path.join(month, file)),\n"
     ]
    },
    {
     "name": "stdout",
     "output_type": "stream",
     "text": [
      "Table with identifier staging.202111_citibike_tripdata_1 already exists\n",
      "Analyzing staging.202111_citibike_tripdata_2\n"
     ]
    },
    {
     "name": "stderr",
     "output_type": "stream",
     "text": [
      "/Users/Ashwin/Desktop/repos/cpz-citibike/src/src_components/data_load/load_duckdb.py:113: DtypeWarning: Columns (5,7) have mixed types. Specify dtype option on import or set low_memory=False.\n",
      "  pd.read_csv(os.path.join(month, file)),\n"
     ]
    },
    {
     "name": "stdout",
     "output_type": "stream",
     "text": [
      "Table with identifier staging.202111_citibike_tripdata_2 already exists\n",
      "Analyzing staging.202111_citibike_tripdata_3\n"
     ]
    },
    {
     "name": "stderr",
     "output_type": "stream",
     "text": [
      "/Users/Ashwin/Desktop/repos/cpz-citibike/src/src_components/data_load/load_duckdb.py:113: DtypeWarning: Columns (5,7) have mixed types. Specify dtype option on import or set low_memory=False.\n",
      "  pd.read_csv(os.path.join(month, file)),\n"
     ]
    },
    {
     "name": "stdout",
     "output_type": "stream",
     "text": [
      "Table with identifier staging.202111_citibike_tripdata_3 already exists\n",
      "Analyzing staging.202112_citibike_tripdata_2\n"
     ]
    },
    {
     "name": "stderr",
     "output_type": "stream",
     "text": [
      "/Users/Ashwin/Desktop/repos/cpz-citibike/src/src_components/data_load/load_duckdb.py:113: DtypeWarning: Columns (5,7) have mixed types. Specify dtype option on import or set low_memory=False.\n",
      "  pd.read_csv(os.path.join(month, file)),\n"
     ]
    },
    {
     "name": "stdout",
     "output_type": "stream",
     "text": [
      "Table with identifier staging.202112_citibike_tripdata_2 already exists\n",
      "Analyzing staging.202112_citibike_tripdata_1\n"
     ]
    },
    {
     "name": "stderr",
     "output_type": "stream",
     "text": [
      "/Users/Ashwin/Desktop/repos/cpz-citibike/src/src_components/data_load/load_duckdb.py:113: DtypeWarning: Columns (5,7) have mixed types. Specify dtype option on import or set low_memory=False.\n",
      "  pd.read_csv(os.path.join(month, file)),\n"
     ]
    },
    {
     "name": "stdout",
     "output_type": "stream",
     "text": [
      "Table with identifier staging.202112_citibike_tripdata_1 already exists\n",
      "Analyzing staging.202201_citibike_tripdata_2\n",
      "Table with identifier staging.202201_citibike_tripdata_2 already exists\n",
      "Analyzing staging.202201_citibike_tripdata_1\n"
     ]
    },
    {
     "name": "stderr",
     "output_type": "stream",
     "text": [
      "/Users/Ashwin/Desktop/repos/cpz-citibike/src/src_components/data_load/load_duckdb.py:113: DtypeWarning: Columns (5,7) have mixed types. Specify dtype option on import or set low_memory=False.\n",
      "  pd.read_csv(os.path.join(month, file)),\n"
     ]
    },
    {
     "name": "stdout",
     "output_type": "stream",
     "text": [
      "Table with identifier staging.202201_citibike_tripdata_1 already exists\n",
      "Analyzing staging.202202_citibike_tripdata_1\n"
     ]
    },
    {
     "name": "stderr",
     "output_type": "stream",
     "text": [
      "/Users/Ashwin/Desktop/repos/cpz-citibike/src/src_components/data_load/load_duckdb.py:113: DtypeWarning: Columns (5,7) have mixed types. Specify dtype option on import or set low_memory=False.\n",
      "  pd.read_csv(os.path.join(month, file)),\n"
     ]
    },
    {
     "name": "stdout",
     "output_type": "stream",
     "text": [
      "Table with identifier staging.202202_citibike_tripdata_1 already exists\n",
      "Analyzing staging.202202_citibike_tripdata_2\n"
     ]
    },
    {
     "name": "stderr",
     "output_type": "stream",
     "text": [
      "/Users/Ashwin/Desktop/repos/cpz-citibike/src/src_components/data_load/load_duckdb.py:113: DtypeWarning: Columns (7) have mixed types. Specify dtype option on import or set low_memory=False.\n",
      "  pd.read_csv(os.path.join(month, file)),\n"
     ]
    },
    {
     "name": "stdout",
     "output_type": "stream",
     "text": [
      "Table with identifier staging.202202_citibike_tripdata_2 already exists\n",
      "Analyzing staging.202203_citibike_tripdata_2\n"
     ]
    },
    {
     "name": "stderr",
     "output_type": "stream",
     "text": [
      "/Users/Ashwin/Desktop/repos/cpz-citibike/src/src_components/data_load/load_duckdb.py:113: DtypeWarning: Columns (5,7) have mixed types. Specify dtype option on import or set low_memory=False.\n",
      "  pd.read_csv(os.path.join(month, file)),\n"
     ]
    },
    {
     "name": "stdout",
     "output_type": "stream",
     "text": [
      "Table with identifier staging.202203_citibike_tripdata_2 already exists\n",
      "Analyzing staging.202203_citibike_tripdata_1\n"
     ]
    },
    {
     "name": "stderr",
     "output_type": "stream",
     "text": [
      "/Users/Ashwin/Desktop/repos/cpz-citibike/src/src_components/data_load/load_duckdb.py:113: DtypeWarning: Columns (5,7) have mixed types. Specify dtype option on import or set low_memory=False.\n",
      "  pd.read_csv(os.path.join(month, file)),\n"
     ]
    },
    {
     "name": "stdout",
     "output_type": "stream",
     "text": [
      "Table with identifier staging.202203_citibike_tripdata_1 already exists\n",
      "Analyzing staging.202204_citibike_tripdata_1\n"
     ]
    },
    {
     "name": "stderr",
     "output_type": "stream",
     "text": [
      "/Users/Ashwin/Desktop/repos/cpz-citibike/src/src_components/data_load/load_duckdb.py:113: DtypeWarning: Columns (5,7) have mixed types. Specify dtype option on import or set low_memory=False.\n",
      "  pd.read_csv(os.path.join(month, file)),\n"
     ]
    },
    {
     "name": "stdout",
     "output_type": "stream",
     "text": [
      "Table with identifier staging.202204_citibike_tripdata_1 already exists\n",
      "Analyzing staging.202204_citibike_tripdata_2\n"
     ]
    },
    {
     "name": "stderr",
     "output_type": "stream",
     "text": [
      "/Users/Ashwin/Desktop/repos/cpz-citibike/src/src_components/data_load/load_duckdb.py:113: DtypeWarning: Columns (5,7) have mixed types. Specify dtype option on import or set low_memory=False.\n",
      "  pd.read_csv(os.path.join(month, file)),\n"
     ]
    },
    {
     "name": "stdout",
     "output_type": "stream",
     "text": [
      "Table with identifier staging.202204_citibike_tripdata_2 already exists\n",
      "Analyzing staging.202204_citibike_tripdata_3\n"
     ]
    },
    {
     "name": "stderr",
     "output_type": "stream",
     "text": [
      "/Users/Ashwin/Desktop/repos/cpz-citibike/src/src_components/data_load/load_duckdb.py:113: DtypeWarning: Columns (5,7) have mixed types. Specify dtype option on import or set low_memory=False.\n",
      "  pd.read_csv(os.path.join(month, file)),\n"
     ]
    },
    {
     "name": "stdout",
     "output_type": "stream",
     "text": [
      "Table with identifier staging.202204_citibike_tripdata_3 already exists\n",
      "Analyzing staging.202205_citibike_tripdata_3\n"
     ]
    },
    {
     "name": "stderr",
     "output_type": "stream",
     "text": [
      "/Users/Ashwin/Desktop/repos/cpz-citibike/src/src_components/data_load/load_duckdb.py:113: DtypeWarning: Columns (5,7) have mixed types. Specify dtype option on import or set low_memory=False.\n",
      "  pd.read_csv(os.path.join(month, file)),\n"
     ]
    },
    {
     "name": "stdout",
     "output_type": "stream",
     "text": [
      "Table with identifier staging.202205_citibike_tripdata_3 already exists\n",
      "Analyzing staging.202205_citibike_tripdata_2\n"
     ]
    },
    {
     "name": "stderr",
     "output_type": "stream",
     "text": [
      "/Users/Ashwin/Desktop/repos/cpz-citibike/src/src_components/data_load/load_duckdb.py:113: DtypeWarning: Columns (5,7) have mixed types. Specify dtype option on import or set low_memory=False.\n",
      "  pd.read_csv(os.path.join(month, file)),\n"
     ]
    },
    {
     "name": "stdout",
     "output_type": "stream",
     "text": [
      "Table with identifier staging.202205_citibike_tripdata_2 already exists\n",
      "Analyzing staging.202205_citibike_tripdata_1\n"
     ]
    },
    {
     "name": "stderr",
     "output_type": "stream",
     "text": [
      "/Users/Ashwin/Desktop/repos/cpz-citibike/src/src_components/data_load/load_duckdb.py:113: DtypeWarning: Columns (5,7) have mixed types. Specify dtype option on import or set low_memory=False.\n",
      "  pd.read_csv(os.path.join(month, file)),\n"
     ]
    },
    {
     "name": "stdout",
     "output_type": "stream",
     "text": [
      "Table with identifier staging.202205_citibike_tripdata_1 already exists\n",
      "Analyzing staging.202206_citibike_tripdata_4\n"
     ]
    },
    {
     "name": "stderr",
     "output_type": "stream",
     "text": [
      "/Users/Ashwin/Desktop/repos/cpz-citibike/src/src_components/data_load/load_duckdb.py:113: DtypeWarning: Columns (5,7) have mixed types. Specify dtype option on import or set low_memory=False.\n",
      "  pd.read_csv(os.path.join(month, file)),\n"
     ]
    },
    {
     "name": "stdout",
     "output_type": "stream",
     "text": [
      "Table with identifier staging.202206_citibike_tripdata_4 already exists\n",
      "Analyzing staging.202206_citibike_tripdata_1\n"
     ]
    },
    {
     "name": "stderr",
     "output_type": "stream",
     "text": [
      "/Users/Ashwin/Desktop/repos/cpz-citibike/src/src_components/data_load/load_duckdb.py:113: DtypeWarning: Columns (5,7) have mixed types. Specify dtype option on import or set low_memory=False.\n",
      "  pd.read_csv(os.path.join(month, file)),\n"
     ]
    },
    {
     "name": "stdout",
     "output_type": "stream",
     "text": [
      "Table with identifier staging.202206_citibike_tripdata_1 already exists\n",
      "Analyzing staging.202206_citibike_tripdata_3\n"
     ]
    },
    {
     "name": "stderr",
     "output_type": "stream",
     "text": [
      "/Users/Ashwin/Desktop/repos/cpz-citibike/src/src_components/data_load/load_duckdb.py:113: DtypeWarning: Columns (5,7) have mixed types. Specify dtype option on import or set low_memory=False.\n",
      "  pd.read_csv(os.path.join(month, file)),\n"
     ]
    },
    {
     "name": "stdout",
     "output_type": "stream",
     "text": [
      "Table with identifier staging.202206_citibike_tripdata_3 already exists\n",
      "Analyzing staging.202206_citibike_tripdata_2\n"
     ]
    },
    {
     "name": "stderr",
     "output_type": "stream",
     "text": [
      "/Users/Ashwin/Desktop/repos/cpz-citibike/src/src_components/data_load/load_duckdb.py:113: DtypeWarning: Columns (5,7) have mixed types. Specify dtype option on import or set low_memory=False.\n",
      "  pd.read_csv(os.path.join(month, file)),\n"
     ]
    },
    {
     "name": "stdout",
     "output_type": "stream",
     "text": [
      "Table with identifier staging.202206_citibike_tripdata_2 already exists\n",
      "Analyzing staging.202207_citibike_tripdata_2\n"
     ]
    },
    {
     "name": "stderr",
     "output_type": "stream",
     "text": [
      "/Users/Ashwin/Desktop/repos/cpz-citibike/src/src_components/data_load/load_duckdb.py:113: DtypeWarning: Columns (5,7) have mixed types. Specify dtype option on import or set low_memory=False.\n",
      "  pd.read_csv(os.path.join(month, file)),\n"
     ]
    },
    {
     "name": "stdout",
     "output_type": "stream",
     "text": [
      "Table with identifier staging.202207_citibike_tripdata_2 already exists\n",
      "Analyzing staging.202207_citibike_tripdata_3\n"
     ]
    },
    {
     "name": "stderr",
     "output_type": "stream",
     "text": [
      "/Users/Ashwin/Desktop/repos/cpz-citibike/src/src_components/data_load/load_duckdb.py:113: DtypeWarning: Columns (5,7) have mixed types. Specify dtype option on import or set low_memory=False.\n",
      "  pd.read_csv(os.path.join(month, file)),\n"
     ]
    },
    {
     "name": "stdout",
     "output_type": "stream",
     "text": [
      "Table with identifier staging.202207_citibike_tripdata_3 already exists\n",
      "Analyzing staging.202207_citibike_tripdata_1\n"
     ]
    },
    {
     "name": "stderr",
     "output_type": "stream",
     "text": [
      "/Users/Ashwin/Desktop/repos/cpz-citibike/src/src_components/data_load/load_duckdb.py:113: DtypeWarning: Columns (5,7) have mixed types. Specify dtype option on import or set low_memory=False.\n",
      "  pd.read_csv(os.path.join(month, file)),\n"
     ]
    },
    {
     "name": "stdout",
     "output_type": "stream",
     "text": [
      "Table with identifier staging.202207_citibike_tripdata_1 already exists\n",
      "Analyzing staging.202207_citibike_tripdata_4\n"
     ]
    },
    {
     "name": "stderr",
     "output_type": "stream",
     "text": [
      "/Users/Ashwin/Desktop/repos/cpz-citibike/src/src_components/data_load/load_duckdb.py:113: DtypeWarning: Columns (5,7) have mixed types. Specify dtype option on import or set low_memory=False.\n",
      "  pd.read_csv(os.path.join(month, file)),\n"
     ]
    },
    {
     "name": "stdout",
     "output_type": "stream",
     "text": [
      "Table with identifier staging.202207_citibike_tripdata_4 already exists\n",
      "Analyzing staging.202208_citibike_tripdata_3\n"
     ]
    },
    {
     "name": "stderr",
     "output_type": "stream",
     "text": [
      "/Users/Ashwin/Desktop/repos/cpz-citibike/src/src_components/data_load/load_duckdb.py:113: DtypeWarning: Columns (5,7) have mixed types. Specify dtype option on import or set low_memory=False.\n",
      "  pd.read_csv(os.path.join(month, file)),\n"
     ]
    },
    {
     "name": "stdout",
     "output_type": "stream",
     "text": [
      "Table with identifier staging.202208_citibike_tripdata_3 already exists\n",
      "Analyzing staging.202208_citibike_tripdata_2\n"
     ]
    },
    {
     "name": "stderr",
     "output_type": "stream",
     "text": [
      "/Users/Ashwin/Desktop/repos/cpz-citibike/src/src_components/data_load/load_duckdb.py:113: DtypeWarning: Columns (5,7) have mixed types. Specify dtype option on import or set low_memory=False.\n",
      "  pd.read_csv(os.path.join(month, file)),\n"
     ]
    },
    {
     "name": "stdout",
     "output_type": "stream",
     "text": [
      "Table with identifier staging.202208_citibike_tripdata_2 already exists\n",
      "Analyzing staging.202208_citibike_tripdata_1\n"
     ]
    },
    {
     "name": "stderr",
     "output_type": "stream",
     "text": [
      "/Users/Ashwin/Desktop/repos/cpz-citibike/src/src_components/data_load/load_duckdb.py:113: DtypeWarning: Columns (5,7) have mixed types. Specify dtype option on import or set low_memory=False.\n",
      "  pd.read_csv(os.path.join(month, file)),\n"
     ]
    },
    {
     "name": "stdout",
     "output_type": "stream",
     "text": [
      "Table with identifier staging.202208_citibike_tripdata_1 already exists\n",
      "Analyzing staging.202208_citibike_tripdata_4\n"
     ]
    },
    {
     "name": "stderr",
     "output_type": "stream",
     "text": [
      "/Users/Ashwin/Desktop/repos/cpz-citibike/src/src_components/data_load/load_duckdb.py:113: DtypeWarning: Columns (5,7) have mixed types. Specify dtype option on import or set low_memory=False.\n",
      "  pd.read_csv(os.path.join(month, file)),\n"
     ]
    },
    {
     "name": "stdout",
     "output_type": "stream",
     "text": [
      "Table with identifier staging.202208_citibike_tripdata_4 already exists\n",
      "Analyzing staging.202209_citibike_tripdata_4\n"
     ]
    },
    {
     "name": "stderr",
     "output_type": "stream",
     "text": [
      "/Users/Ashwin/Desktop/repos/cpz-citibike/src/src_components/data_load/load_duckdb.py:113: DtypeWarning: Columns (5,7) have mixed types. Specify dtype option on import or set low_memory=False.\n",
      "  pd.read_csv(os.path.join(month, file)),\n"
     ]
    },
    {
     "name": "stdout",
     "output_type": "stream",
     "text": [
      "Table with identifier staging.202209_citibike_tripdata_4 already exists\n",
      "Analyzing staging.202209_citibike_tripdata_1\n"
     ]
    },
    {
     "name": "stderr",
     "output_type": "stream",
     "text": [
      "/Users/Ashwin/Desktop/repos/cpz-citibike/src/src_components/data_load/load_duckdb.py:113: DtypeWarning: Columns (5,7) have mixed types. Specify dtype option on import or set low_memory=False.\n",
      "  pd.read_csv(os.path.join(month, file)),\n"
     ]
    },
    {
     "name": "stdout",
     "output_type": "stream",
     "text": [
      "Table with identifier staging.202209_citibike_tripdata_1 already exists\n",
      "Analyzing staging.202209_citibike_tripdata_2\n"
     ]
    },
    {
     "name": "stderr",
     "output_type": "stream",
     "text": [
      "/Users/Ashwin/Desktop/repos/cpz-citibike/src/src_components/data_load/load_duckdb.py:113: DtypeWarning: Columns (5,7) have mixed types. Specify dtype option on import or set low_memory=False.\n",
      "  pd.read_csv(os.path.join(month, file)),\n"
     ]
    },
    {
     "name": "stdout",
     "output_type": "stream",
     "text": [
      "Table with identifier staging.202209_citibike_tripdata_2 already exists\n",
      "Analyzing staging.202209_citibike_tripdata_3\n"
     ]
    },
    {
     "name": "stderr",
     "output_type": "stream",
     "text": [
      "/Users/Ashwin/Desktop/repos/cpz-citibike/src/src_components/data_load/load_duckdb.py:113: DtypeWarning: Columns (5,7) have mixed types. Specify dtype option on import or set low_memory=False.\n",
      "  pd.read_csv(os.path.join(month, file)),\n"
     ]
    },
    {
     "name": "stdout",
     "output_type": "stream",
     "text": [
      "Table with identifier staging.202209_citibike_tripdata_3 already exists\n",
      "Analyzing staging.202210_citibike_tripdata_1\n"
     ]
    },
    {
     "name": "stderr",
     "output_type": "stream",
     "text": [
      "/Users/Ashwin/Desktop/repos/cpz-citibike/src/src_components/data_load/load_duckdb.py:113: DtypeWarning: Columns (5,7) have mixed types. Specify dtype option on import or set low_memory=False.\n",
      "  pd.read_csv(os.path.join(month, file)),\n"
     ]
    },
    {
     "name": "stdout",
     "output_type": "stream",
     "text": [
      "Table with identifier staging.202210_citibike_tripdata_1 already exists\n",
      "Analyzing staging.202210_citibike_tripdata_2\n"
     ]
    },
    {
     "name": "stderr",
     "output_type": "stream",
     "text": [
      "/Users/Ashwin/Desktop/repos/cpz-citibike/src/src_components/data_load/load_duckdb.py:113: DtypeWarning: Columns (5,7) have mixed types. Specify dtype option on import or set low_memory=False.\n",
      "  pd.read_csv(os.path.join(month, file)),\n"
     ]
    },
    {
     "name": "stdout",
     "output_type": "stream",
     "text": [
      "Table with identifier staging.202210_citibike_tripdata_2 already exists\n",
      "Analyzing staging.202210_citibike_tripdata_3\n"
     ]
    },
    {
     "name": "stderr",
     "output_type": "stream",
     "text": [
      "/Users/Ashwin/Desktop/repos/cpz-citibike/src/src_components/data_load/load_duckdb.py:113: DtypeWarning: Columns (5,7) have mixed types. Specify dtype option on import or set low_memory=False.\n",
      "  pd.read_csv(os.path.join(month, file)),\n"
     ]
    },
    {
     "name": "stdout",
     "output_type": "stream",
     "text": [
      "Table with identifier staging.202210_citibike_tripdata_3 already exists\n",
      "Analyzing staging.202211_citibike_tripdata_3\n"
     ]
    },
    {
     "name": "stderr",
     "output_type": "stream",
     "text": [
      "/Users/Ashwin/Desktop/repos/cpz-citibike/src/src_components/data_load/load_duckdb.py:113: DtypeWarning: Columns (7) have mixed types. Specify dtype option on import or set low_memory=False.\n",
      "  pd.read_csv(os.path.join(month, file)),\n"
     ]
    },
    {
     "name": "stdout",
     "output_type": "stream",
     "text": [
      "Table with identifier staging.202211_citibike_tripdata_3 already exists\n",
      "Analyzing staging.202211_citibike_tripdata_2\n"
     ]
    },
    {
     "name": "stderr",
     "output_type": "stream",
     "text": [
      "/Users/Ashwin/Desktop/repos/cpz-citibike/src/src_components/data_load/load_duckdb.py:113: DtypeWarning: Columns (5,7) have mixed types. Specify dtype option on import or set low_memory=False.\n",
      "  pd.read_csv(os.path.join(month, file)),\n"
     ]
    },
    {
     "name": "stdout",
     "output_type": "stream",
     "text": [
      "Table with identifier staging.202211_citibike_tripdata_2 already exists\n",
      "Analyzing staging.202211_citibike_tripdata_1\n"
     ]
    },
    {
     "name": "stderr",
     "output_type": "stream",
     "text": [
      "/Users/Ashwin/Desktop/repos/cpz-citibike/src/src_components/data_load/load_duckdb.py:113: DtypeWarning: Columns (5,7) have mixed types. Specify dtype option on import or set low_memory=False.\n",
      "  pd.read_csv(os.path.join(month, file)),\n"
     ]
    },
    {
     "name": "stdout",
     "output_type": "stream",
     "text": [
      "Table with identifier staging.202211_citibike_tripdata_1 already exists\n",
      "Analyzing staging.202212_citibike_tripdata_1\n"
     ]
    },
    {
     "name": "stderr",
     "output_type": "stream",
     "text": [
      "/Users/Ashwin/Desktop/repos/cpz-citibike/src/src_components/data_load/load_duckdb.py:113: DtypeWarning: Columns (5,7) have mixed types. Specify dtype option on import or set low_memory=False.\n",
      "  pd.read_csv(os.path.join(month, file)),\n"
     ]
    },
    {
     "name": "stdout",
     "output_type": "stream",
     "text": [
      "Table with identifier staging.202212_citibike_tripdata_1 already exists\n",
      "Analyzing staging.202212_citibike_tripdata_2\n"
     ]
    },
    {
     "name": "stderr",
     "output_type": "stream",
     "text": [
      "/Users/Ashwin/Desktop/repos/cpz-citibike/src/src_components/data_load/load_duckdb.py:113: DtypeWarning: Columns (5,7) have mixed types. Specify dtype option on import or set low_memory=False.\n",
      "  pd.read_csv(os.path.join(month, file)),\n"
     ]
    },
    {
     "name": "stdout",
     "output_type": "stream",
     "text": [
      "Table with identifier staging.202212_citibike_tripdata_2 already exists\n",
      "Analyzing staging.202301_citibike_tripdata_1\n"
     ]
    },
    {
     "name": "stderr",
     "output_type": "stream",
     "text": [
      "/Users/Ashwin/Desktop/repos/cpz-citibike/src/src_components/data_load/load_duckdb.py:113: DtypeWarning: Columns (5,7) have mixed types. Specify dtype option on import or set low_memory=False.\n",
      "  pd.read_csv(os.path.join(month, file)),\n"
     ]
    },
    {
     "name": "stdout",
     "output_type": "stream",
     "text": [
      "Table with identifier staging.202301_citibike_tripdata_1 already exists\n",
      "Analyzing staging.202301_citibike_tripdata_2\n"
     ]
    },
    {
     "name": "stderr",
     "output_type": "stream",
     "text": [
      "/Users/Ashwin/Desktop/repos/cpz-citibike/src/src_components/data_load/load_duckdb.py:113: DtypeWarning: Columns (5,7) have mixed types. Specify dtype option on import or set low_memory=False.\n",
      "  pd.read_csv(os.path.join(month, file)),\n"
     ]
    },
    {
     "name": "stdout",
     "output_type": "stream",
     "text": [
      "Table with identifier staging.202301_citibike_tripdata_2 already exists\n",
      "Analyzing staging.202302_citibike_tripdata_2\n"
     ]
    },
    {
     "name": "stderr",
     "output_type": "stream",
     "text": [
      "/Users/Ashwin/Desktop/repos/cpz-citibike/src/src_components/data_load/load_duckdb.py:113: DtypeWarning: Columns (5,7) have mixed types. Specify dtype option on import or set low_memory=False.\n",
      "  pd.read_csv(os.path.join(month, file)),\n"
     ]
    },
    {
     "name": "stdout",
     "output_type": "stream",
     "text": [
      "Table with identifier staging.202302_citibike_tripdata_2 already exists\n",
      "Analyzing staging.202302_citibike_tripdata_1\n"
     ]
    },
    {
     "name": "stderr",
     "output_type": "stream",
     "text": [
      "/Users/Ashwin/Desktop/repos/cpz-citibike/src/src_components/data_load/load_duckdb.py:113: DtypeWarning: Columns (5,7) have mixed types. Specify dtype option on import or set low_memory=False.\n",
      "  pd.read_csv(os.path.join(month, file)),\n"
     ]
    },
    {
     "name": "stdout",
     "output_type": "stream",
     "text": [
      "Table with identifier staging.202302_citibike_tripdata_1 already exists\n",
      "Analyzing staging.202303_citibike_tripdata_1\n"
     ]
    },
    {
     "name": "stderr",
     "output_type": "stream",
     "text": [
      "/Users/Ashwin/Desktop/repos/cpz-citibike/src/src_components/data_load/load_duckdb.py:113: DtypeWarning: Columns (7) have mixed types. Specify dtype option on import or set low_memory=False.\n",
      "  pd.read_csv(os.path.join(month, file)),\n"
     ]
    },
    {
     "name": "stdout",
     "output_type": "stream",
     "text": [
      "Table with identifier staging.202303_citibike_tripdata_1 already exists\n",
      "Analyzing staging.202303_citibike_tripdata_2\n"
     ]
    },
    {
     "name": "stderr",
     "output_type": "stream",
     "text": [
      "/Users/Ashwin/Desktop/repos/cpz-citibike/src/src_components/data_load/load_duckdb.py:113: DtypeWarning: Columns (7) have mixed types. Specify dtype option on import or set low_memory=False.\n",
      "  pd.read_csv(os.path.join(month, file)),\n"
     ]
    },
    {
     "name": "stdout",
     "output_type": "stream",
     "text": [
      "Table with identifier staging.202303_citibike_tripdata_2 already exists\n",
      "Analyzing staging.202303_citibike_tripdata_3\n",
      "Table with identifier staging.202303_citibike_tripdata_3 already exists\n",
      "Analyzing staging.202304_citibike_tripdata_3\n"
     ]
    },
    {
     "name": "stderr",
     "output_type": "stream",
     "text": [
      "/Users/Ashwin/Desktop/repos/cpz-citibike/src/src_components/data_load/load_duckdb.py:113: DtypeWarning: Columns (5,7) have mixed types. Specify dtype option on import or set low_memory=False.\n",
      "  pd.read_csv(os.path.join(month, file)),\n"
     ]
    },
    {
     "name": "stdout",
     "output_type": "stream",
     "text": [
      "Table with identifier staging.202304_citibike_tripdata_3 already exists\n",
      "Analyzing staging.202304_citibike_tripdata_2\n"
     ]
    },
    {
     "name": "stderr",
     "output_type": "stream",
     "text": [
      "/Users/Ashwin/Desktop/repos/cpz-citibike/src/src_components/data_load/load_duckdb.py:113: DtypeWarning: Columns (5,7) have mixed types. Specify dtype option on import or set low_memory=False.\n",
      "  pd.read_csv(os.path.join(month, file)),\n"
     ]
    },
    {
     "name": "stdout",
     "output_type": "stream",
     "text": [
      "Table with identifier staging.202304_citibike_tripdata_2 already exists\n",
      "Analyzing staging.202304_citibike_tripdata_1\n"
     ]
    },
    {
     "name": "stderr",
     "output_type": "stream",
     "text": [
      "/Users/Ashwin/Desktop/repos/cpz-citibike/src/src_components/data_load/load_duckdb.py:113: DtypeWarning: Columns (5,7) have mixed types. Specify dtype option on import or set low_memory=False.\n",
      "  pd.read_csv(os.path.join(month, file)),\n"
     ]
    },
    {
     "name": "stdout",
     "output_type": "stream",
     "text": [
      "Table with identifier staging.202304_citibike_tripdata_1 already exists\n",
      "Analyzing staging.202305_citibike_tripdata_4\n"
     ]
    },
    {
     "name": "stderr",
     "output_type": "stream",
     "text": [
      "/Users/Ashwin/Desktop/repos/cpz-citibike/src/src_components/data_load/load_duckdb.py:113: DtypeWarning: Columns (7) have mixed types. Specify dtype option on import or set low_memory=False.\n",
      "  pd.read_csv(os.path.join(month, file)),\n"
     ]
    },
    {
     "name": "stdout",
     "output_type": "stream",
     "text": [
      "Table with identifier staging.202305_citibike_tripdata_4 already exists\n",
      "Analyzing staging.202305_citibike_tripdata_1\n"
     ]
    },
    {
     "name": "stderr",
     "output_type": "stream",
     "text": [
      "/Users/Ashwin/Desktop/repos/cpz-citibike/src/src_components/data_load/load_duckdb.py:113: DtypeWarning: Columns (5,7) have mixed types. Specify dtype option on import or set low_memory=False.\n",
      "  pd.read_csv(os.path.join(month, file)),\n"
     ]
    },
    {
     "name": "stdout",
     "output_type": "stream",
     "text": [
      "Table with identifier staging.202305_citibike_tripdata_1 already exists\n",
      "Analyzing staging.202305_citibike_tripdata_2\n"
     ]
    },
    {
     "name": "stderr",
     "output_type": "stream",
     "text": [
      "/Users/Ashwin/Desktop/repos/cpz-citibike/src/src_components/data_load/load_duckdb.py:113: DtypeWarning: Columns (7) have mixed types. Specify dtype option on import or set low_memory=False.\n",
      "  pd.read_csv(os.path.join(month, file)),\n"
     ]
    },
    {
     "name": "stdout",
     "output_type": "stream",
     "text": [
      "Table with identifier staging.202305_citibike_tripdata_2 already exists\n",
      "Analyzing staging.202305_citibike_tripdata_3\n"
     ]
    },
    {
     "name": "stderr",
     "output_type": "stream",
     "text": [
      "/Users/Ashwin/Desktop/repos/cpz-citibike/src/src_components/data_load/load_duckdb.py:113: DtypeWarning: Columns (5,7) have mixed types. Specify dtype option on import or set low_memory=False.\n",
      "  pd.read_csv(os.path.join(month, file)),\n"
     ]
    },
    {
     "name": "stdout",
     "output_type": "stream",
     "text": [
      "Table with identifier staging.202305_citibike_tripdata_3 already exists\n",
      "Analyzing staging.202306_citibike_tripdata_2\n"
     ]
    },
    {
     "name": "stderr",
     "output_type": "stream",
     "text": [
      "/Users/Ashwin/Desktop/repos/cpz-citibike/src/src_components/data_load/load_duckdb.py:113: DtypeWarning: Columns (5,7) have mixed types. Specify dtype option on import or set low_memory=False.\n",
      "  pd.read_csv(os.path.join(month, file)),\n"
     ]
    },
    {
     "name": "stdout",
     "output_type": "stream",
     "text": [
      "Table with identifier staging.202306_citibike_tripdata_2 already exists\n",
      "Analyzing staging.202306_citibike_tripdata_3\n"
     ]
    },
    {
     "name": "stderr",
     "output_type": "stream",
     "text": [
      "/Users/Ashwin/Desktop/repos/cpz-citibike/src/src_components/data_load/load_duckdb.py:113: DtypeWarning: Columns (5,7) have mixed types. Specify dtype option on import or set low_memory=False.\n",
      "  pd.read_csv(os.path.join(month, file)),\n"
     ]
    },
    {
     "name": "stdout",
     "output_type": "stream",
     "text": [
      "Table with identifier staging.202306_citibike_tripdata_3 already exists\n",
      "Analyzing staging.202306_citibike_tripdata_1\n"
     ]
    },
    {
     "name": "stderr",
     "output_type": "stream",
     "text": [
      "/Users/Ashwin/Desktop/repos/cpz-citibike/src/src_components/data_load/load_duckdb.py:113: DtypeWarning: Columns (5,7) have mixed types. Specify dtype option on import or set low_memory=False.\n",
      "  pd.read_csv(os.path.join(month, file)),\n"
     ]
    },
    {
     "name": "stdout",
     "output_type": "stream",
     "text": [
      "Table with identifier staging.202306_citibike_tripdata_1 already exists\n",
      "Analyzing staging.202306_citibike_tripdata_4\n"
     ]
    },
    {
     "name": "stderr",
     "output_type": "stream",
     "text": [
      "/Users/Ashwin/Desktop/repos/cpz-citibike/src/src_components/data_load/load_duckdb.py:113: DtypeWarning: Columns (5,7) have mixed types. Specify dtype option on import or set low_memory=False.\n",
      "  pd.read_csv(os.path.join(month, file)),\n"
     ]
    },
    {
     "name": "stdout",
     "output_type": "stream",
     "text": [
      "Table with identifier staging.202306_citibike_tripdata_4 already exists\n",
      "Analyzing staging.202307_citibike_tripdata_4\n"
     ]
    },
    {
     "name": "stderr",
     "output_type": "stream",
     "text": [
      "/Users/Ashwin/Desktop/repos/cpz-citibike/src/src_components/data_load/load_duckdb.py:113: DtypeWarning: Columns (5,7) have mixed types. Specify dtype option on import or set low_memory=False.\n",
      "  pd.read_csv(os.path.join(month, file)),\n"
     ]
    },
    {
     "name": "stdout",
     "output_type": "stream",
     "text": [
      "Table with identifier staging.202307_citibike_tripdata_4 already exists\n",
      "Analyzing staging.202307_citibike_tripdata_1\n"
     ]
    },
    {
     "name": "stderr",
     "output_type": "stream",
     "text": [
      "/Users/Ashwin/Desktop/repos/cpz-citibike/src/src_components/data_load/load_duckdb.py:113: DtypeWarning: Columns (5,7) have mixed types. Specify dtype option on import or set low_memory=False.\n",
      "  pd.read_csv(os.path.join(month, file)),\n"
     ]
    },
    {
     "name": "stdout",
     "output_type": "stream",
     "text": [
      "Table with identifier staging.202307_citibike_tripdata_1 already exists\n",
      "Analyzing staging.202307_citibike_tripdata_3\n"
     ]
    },
    {
     "name": "stderr",
     "output_type": "stream",
     "text": [
      "/Users/Ashwin/Desktop/repos/cpz-citibike/src/src_components/data_load/load_duckdb.py:113: DtypeWarning: Columns (5,7) have mixed types. Specify dtype option on import or set low_memory=False.\n",
      "  pd.read_csv(os.path.join(month, file)),\n"
     ]
    },
    {
     "name": "stdout",
     "output_type": "stream",
     "text": [
      "Table with identifier staging.202307_citibike_tripdata_3 already exists\n",
      "Analyzing staging.202307_citibike_tripdata_2\n"
     ]
    },
    {
     "name": "stderr",
     "output_type": "stream",
     "text": [
      "/Users/Ashwin/Desktop/repos/cpz-citibike/src/src_components/data_load/load_duckdb.py:113: DtypeWarning: Columns (5,7) have mixed types. Specify dtype option on import or set low_memory=False.\n",
      "  pd.read_csv(os.path.join(month, file)),\n"
     ]
    },
    {
     "name": "stdout",
     "output_type": "stream",
     "text": [
      "Table with identifier staging.202307_citibike_tripdata_2 already exists\n",
      "Analyzing staging.202308_citibike_tripdata_4\n"
     ]
    },
    {
     "name": "stderr",
     "output_type": "stream",
     "text": [
      "/Users/Ashwin/Desktop/repos/cpz-citibike/src/src_components/data_load/load_duckdb.py:113: DtypeWarning: Columns (5,7) have mixed types. Specify dtype option on import or set low_memory=False.\n",
      "  pd.read_csv(os.path.join(month, file)),\n"
     ]
    },
    {
     "name": "stdout",
     "output_type": "stream",
     "text": [
      "Table with identifier staging.202308_citibike_tripdata_4 already exists\n",
      "Analyzing staging.202308_citibike_tripdata_1\n"
     ]
    },
    {
     "name": "stderr",
     "output_type": "stream",
     "text": [
      "/Users/Ashwin/Desktop/repos/cpz-citibike/src/src_components/data_load/load_duckdb.py:113: DtypeWarning: Columns (5,7) have mixed types. Specify dtype option on import or set low_memory=False.\n",
      "  pd.read_csv(os.path.join(month, file)),\n"
     ]
    },
    {
     "name": "stdout",
     "output_type": "stream",
     "text": [
      "Table with identifier staging.202308_citibike_tripdata_1 already exists\n",
      "Analyzing staging.202308_citibike_tripdata_2\n"
     ]
    },
    {
     "name": "stderr",
     "output_type": "stream",
     "text": [
      "/Users/Ashwin/Desktop/repos/cpz-citibike/src/src_components/data_load/load_duckdb.py:113: DtypeWarning: Columns (5,7) have mixed types. Specify dtype option on import or set low_memory=False.\n",
      "  pd.read_csv(os.path.join(month, file)),\n"
     ]
    },
    {
     "name": "stdout",
     "output_type": "stream",
     "text": [
      "Table with identifier staging.202308_citibike_tripdata_2 already exists\n",
      "Analyzing staging.202308_citibike_tripdata_3\n"
     ]
    },
    {
     "name": "stderr",
     "output_type": "stream",
     "text": [
      "/Users/Ashwin/Desktop/repos/cpz-citibike/src/src_components/data_load/load_duckdb.py:113: DtypeWarning: Columns (5,7) have mixed types. Specify dtype option on import or set low_memory=False.\n",
      "  pd.read_csv(os.path.join(month, file)),\n"
     ]
    },
    {
     "name": "stdout",
     "output_type": "stream",
     "text": [
      "Table with identifier staging.202308_citibike_tripdata_3 already exists\n",
      "Analyzing staging.202309_citibike_tripdata_3\n"
     ]
    },
    {
     "name": "stderr",
     "output_type": "stream",
     "text": [
      "/Users/Ashwin/Desktop/repos/cpz-citibike/src/src_components/data_load/load_duckdb.py:113: DtypeWarning: Columns (5,7) have mixed types. Specify dtype option on import or set low_memory=False.\n",
      "  pd.read_csv(os.path.join(month, file)),\n"
     ]
    },
    {
     "name": "stdout",
     "output_type": "stream",
     "text": [
      "Table with identifier staging.202309_citibike_tripdata_3 already exists\n",
      "Analyzing staging.202309_citibike_tripdata_2\n"
     ]
    },
    {
     "name": "stderr",
     "output_type": "stream",
     "text": [
      "/Users/Ashwin/Desktop/repos/cpz-citibike/src/src_components/data_load/load_duckdb.py:113: DtypeWarning: Columns (5,7) have mixed types. Specify dtype option on import or set low_memory=False.\n",
      "  pd.read_csv(os.path.join(month, file)),\n"
     ]
    },
    {
     "name": "stdout",
     "output_type": "stream",
     "text": [
      "Table with identifier staging.202309_citibike_tripdata_2 already exists\n",
      "Analyzing staging.202309_citibike_tripdata_1\n"
     ]
    },
    {
     "name": "stderr",
     "output_type": "stream",
     "text": [
      "/Users/Ashwin/Desktop/repos/cpz-citibike/src/src_components/data_load/load_duckdb.py:113: DtypeWarning: Columns (5,7) have mixed types. Specify dtype option on import or set low_memory=False.\n",
      "  pd.read_csv(os.path.join(month, file)),\n"
     ]
    },
    {
     "name": "stdout",
     "output_type": "stream",
     "text": [
      "Table with identifier staging.202309_citibike_tripdata_1 already exists\n",
      "Analyzing staging.202309_citibike_tripdata_4\n"
     ]
    },
    {
     "name": "stderr",
     "output_type": "stream",
     "text": [
      "/Users/Ashwin/Desktop/repos/cpz-citibike/src/src_components/data_load/load_duckdb.py:113: DtypeWarning: Columns (5) have mixed types. Specify dtype option on import or set low_memory=False.\n",
      "  pd.read_csv(os.path.join(month, file)),\n"
     ]
    },
    {
     "name": "stdout",
     "output_type": "stream",
     "text": [
      "Table with identifier staging.202309_citibike_tripdata_4 already exists\n",
      "Analyzing staging.202310_citibike_tripdata_3\n"
     ]
    },
    {
     "name": "stderr",
     "output_type": "stream",
     "text": [
      "/Users/Ashwin/Desktop/repos/cpz-citibike/src/src_components/data_load/load_duckdb.py:113: DtypeWarning: Columns (5,7) have mixed types. Specify dtype option on import or set low_memory=False.\n",
      "  pd.read_csv(os.path.join(month, file)),\n"
     ]
    },
    {
     "name": "stdout",
     "output_type": "stream",
     "text": [
      "Table with identifier staging.202310_citibike_tripdata_3 already exists\n",
      "Analyzing staging.202310_citibike_tripdata_2\n"
     ]
    },
    {
     "name": "stderr",
     "output_type": "stream",
     "text": [
      "/Users/Ashwin/Desktop/repos/cpz-citibike/src/src_components/data_load/load_duckdb.py:113: DtypeWarning: Columns (7) have mixed types. Specify dtype option on import or set low_memory=False.\n",
      "  pd.read_csv(os.path.join(month, file)),\n"
     ]
    },
    {
     "name": "stdout",
     "output_type": "stream",
     "text": [
      "Table with identifier staging.202310_citibike_tripdata_2 already exists\n",
      "Analyzing staging.202310_citibike_tripdata_1\n"
     ]
    },
    {
     "name": "stderr",
     "output_type": "stream",
     "text": [
      "/Users/Ashwin/Desktop/repos/cpz-citibike/src/src_components/data_load/load_duckdb.py:113: DtypeWarning: Columns (7) have mixed types. Specify dtype option on import or set low_memory=False.\n",
      "  pd.read_csv(os.path.join(month, file)),\n"
     ]
    },
    {
     "name": "stdout",
     "output_type": "stream",
     "text": [
      "Table with identifier staging.202310_citibike_tripdata_1 already exists\n",
      "Analyzing staging.202310_citibike_tripdata_4\n"
     ]
    },
    {
     "name": "stderr",
     "output_type": "stream",
     "text": [
      "/Users/Ashwin/Desktop/repos/cpz-citibike/src/src_components/data_load/load_duckdb.py:113: DtypeWarning: Columns (7) have mixed types. Specify dtype option on import or set low_memory=False.\n",
      "  pd.read_csv(os.path.join(month, file)),\n"
     ]
    },
    {
     "name": "stdout",
     "output_type": "stream",
     "text": [
      "Table with identifier staging.202310_citibike_tripdata_4 already exists\n",
      "Analyzing staging.202311_citibike_tripdata_1\n"
     ]
    },
    {
     "name": "stderr",
     "output_type": "stream",
     "text": [
      "/Users/Ashwin/Desktop/repos/cpz-citibike/src/src_components/data_load/load_duckdb.py:113: DtypeWarning: Columns (7) have mixed types. Specify dtype option on import or set low_memory=False.\n",
      "  pd.read_csv(os.path.join(month, file)),\n"
     ]
    },
    {
     "name": "stdout",
     "output_type": "stream",
     "text": [
      "Table with identifier staging.202311_citibike_tripdata_1 already exists\n",
      "Analyzing staging.202311_citibike_tripdata_2\n"
     ]
    },
    {
     "name": "stderr",
     "output_type": "stream",
     "text": [
      "/Users/Ashwin/Desktop/repos/cpz-citibike/src/src_components/data_load/load_duckdb.py:113: DtypeWarning: Columns (5,7) have mixed types. Specify dtype option on import or set low_memory=False.\n",
      "  pd.read_csv(os.path.join(month, file)),\n"
     ]
    },
    {
     "name": "stdout",
     "output_type": "stream",
     "text": [
      "Table with identifier staging.202311_citibike_tripdata_2 already exists\n",
      "Analyzing staging.202311_citibike_tripdata_3\n"
     ]
    },
    {
     "name": "stderr",
     "output_type": "stream",
     "text": [
      "/Users/Ashwin/Desktop/repos/cpz-citibike/src/src_components/data_load/load_duckdb.py:113: DtypeWarning: Columns (7) have mixed types. Specify dtype option on import or set low_memory=False.\n",
      "  pd.read_csv(os.path.join(month, file)),\n"
     ]
    },
    {
     "name": "stdout",
     "output_type": "stream",
     "text": [
      "Table with identifier staging.202311_citibike_tripdata_3 already exists\n",
      "Analyzing staging.202312_citibike_tripdata_2\n"
     ]
    },
    {
     "name": "stderr",
     "output_type": "stream",
     "text": [
      "/Users/Ashwin/Desktop/repos/cpz-citibike/src/src_components/data_load/load_duckdb.py:113: DtypeWarning: Columns (7) have mixed types. Specify dtype option on import or set low_memory=False.\n",
      "  pd.read_csv(os.path.join(month, file)),\n"
     ]
    },
    {
     "name": "stdout",
     "output_type": "stream",
     "text": [
      "Table with identifier staging.202312_citibike_tripdata_2 already exists\n",
      "Analyzing staging.202312_citibike_tripdata_3\n"
     ]
    },
    {
     "name": "stderr",
     "output_type": "stream",
     "text": [
      "/Users/Ashwin/Desktop/repos/cpz-citibike/src/src_components/data_load/load_duckdb.py:113: DtypeWarning: Columns (7) have mixed types. Specify dtype option on import or set low_memory=False.\n",
      "  pd.read_csv(os.path.join(month, file)),\n"
     ]
    },
    {
     "name": "stdout",
     "output_type": "stream",
     "text": [
      "Table with identifier staging.202312_citibike_tripdata_3 already exists\n",
      "Analyzing staging.202312_citibike_tripdata_1\n"
     ]
    },
    {
     "name": "stderr",
     "output_type": "stream",
     "text": [
      "/Users/Ashwin/Desktop/repos/cpz-citibike/src/src_components/data_load/load_duckdb.py:113: DtypeWarning: Columns (7) have mixed types. Specify dtype option on import or set low_memory=False.\n",
      "  pd.read_csv(os.path.join(month, file)),\n"
     ]
    },
    {
     "name": "stdout",
     "output_type": "stream",
     "text": [
      "Table with identifier staging.202312_citibike_tripdata_1 already exists\n",
      "Analyzing staging.202401_citibike_tripdata\n"
     ]
    },
    {
     "name": "stderr",
     "output_type": "stream",
     "text": [
      "/Users/Ashwin/Desktop/repos/cpz-citibike/src/src_components/data_load/load_duckdb.py:113: DtypeWarning: Columns (5,7) have mixed types. Specify dtype option on import or set low_memory=False.\n",
      "  pd.read_csv(os.path.join(month, file)),\n"
     ]
    },
    {
     "name": "stdout",
     "output_type": "stream",
     "text": [
      "Table with identifier staging.202401_citibike_tripdata already exists\n",
      "Analyzing staging.202402_citibike_tripdata\n"
     ]
    },
    {
     "name": "stderr",
     "output_type": "stream",
     "text": [
      "/Users/Ashwin/Desktop/repos/cpz-citibike/src/src_components/data_load/load_duckdb.py:113: DtypeWarning: Columns (5,7) have mixed types. Specify dtype option on import or set low_memory=False.\n",
      "  pd.read_csv(os.path.join(month, file)),\n"
     ]
    },
    {
     "name": "stdout",
     "output_type": "stream",
     "text": [
      "Table with identifier staging.202402_citibike_tripdata already exists\n",
      "Analyzing staging.202403_citibike_tripdata\n"
     ]
    },
    {
     "name": "stderr",
     "output_type": "stream",
     "text": [
      "/Users/Ashwin/Desktop/repos/cpz-citibike/src/src_components/data_load/load_duckdb.py:113: DtypeWarning: Columns (5,7) have mixed types. Specify dtype option on import or set low_memory=False.\n",
      "  pd.read_csv(os.path.join(month, file)),\n"
     ]
    },
    {
     "name": "stdout",
     "output_type": "stream",
     "text": [
      "Table with identifier staging.202403_citibike_tripdata already exists\n",
      "Analyzing staging.202404_citibike_tripdata\n"
     ]
    },
    {
     "name": "stderr",
     "output_type": "stream",
     "text": [
      "/Users/Ashwin/Desktop/repos/cpz-citibike/src/src_components/data_load/load_duckdb.py:113: DtypeWarning: Columns (5,7) have mixed types. Specify dtype option on import or set low_memory=False.\n",
      "  pd.read_csv(os.path.join(month, file)),\n"
     ]
    },
    {
     "name": "stdout",
     "output_type": "stream",
     "text": [
      "Table with identifier staging.202404_citibike_tripdata already exists\n",
      "Analyzing staging.202405_citibike_tripdata_3\n"
     ]
    },
    {
     "name": "stderr",
     "output_type": "stream",
     "text": [
      "/Users/Ashwin/Desktop/repos/cpz-citibike/src/src_components/data_load/load_duckdb.py:113: DtypeWarning: Columns (5,7) have mixed types. Specify dtype option on import or set low_memory=False.\n",
      "  pd.read_csv(os.path.join(month, file)),\n"
     ]
    },
    {
     "name": "stdout",
     "output_type": "stream",
     "text": [
      "Table with identifier staging.202405_citibike_tripdata_3 already exists\n",
      "Analyzing staging.202405_citibike_tripdata_2\n"
     ]
    },
    {
     "name": "stderr",
     "output_type": "stream",
     "text": [
      "/Users/Ashwin/Desktop/repos/cpz-citibike/src/src_components/data_load/load_duckdb.py:113: DtypeWarning: Columns (5,7) have mixed types. Specify dtype option on import or set low_memory=False.\n",
      "  pd.read_csv(os.path.join(month, file)),\n"
     ]
    },
    {
     "name": "stdout",
     "output_type": "stream",
     "text": [
      "Table with identifier staging.202405_citibike_tripdata_2 already exists\n",
      "Analyzing staging.202405_citibike_tripdata_1\n"
     ]
    },
    {
     "name": "stderr",
     "output_type": "stream",
     "text": [
      "/Users/Ashwin/Desktop/repos/cpz-citibike/src/src_components/data_load/load_duckdb.py:113: DtypeWarning: Columns (7) have mixed types. Specify dtype option on import or set low_memory=False.\n",
      "  pd.read_csv(os.path.join(month, file)),\n"
     ]
    },
    {
     "name": "stdout",
     "output_type": "stream",
     "text": [
      "Table with identifier staging.202405_citibike_tripdata_1 already exists\n",
      "Analyzing staging.202405_citibike_tripdata_5\n"
     ]
    },
    {
     "name": "stderr",
     "output_type": "stream",
     "text": [
      "/Users/Ashwin/Desktop/repos/cpz-citibike/src/src_components/data_load/load_duckdb.py:113: DtypeWarning: Columns (5,7) have mixed types. Specify dtype option on import or set low_memory=False.\n",
      "  pd.read_csv(os.path.join(month, file)),\n"
     ]
    },
    {
     "name": "stdout",
     "output_type": "stream",
     "text": [
      "Table with identifier staging.202405_citibike_tripdata_5 already exists\n",
      "Analyzing staging.202405_citibike_tripdata_4\n"
     ]
    },
    {
     "name": "stderr",
     "output_type": "stream",
     "text": [
      "/Users/Ashwin/Desktop/repos/cpz-citibike/src/src_components/data_load/load_duckdb.py:113: DtypeWarning: Columns (5,7) have mixed types. Specify dtype option on import or set low_memory=False.\n",
      "  pd.read_csv(os.path.join(month, file)),\n"
     ]
    },
    {
     "name": "stdout",
     "output_type": "stream",
     "text": [
      "Table with identifier staging.202405_citibike_tripdata_4 already exists\n",
      "Analyzing staging.202406_citibike_tripdata_5\n"
     ]
    },
    {
     "name": "stderr",
     "output_type": "stream",
     "text": [
      "/Users/Ashwin/Desktop/repos/cpz-citibike/src/src_components/data_load/load_duckdb.py:113: DtypeWarning: Columns (5,7) have mixed types. Specify dtype option on import or set low_memory=False.\n",
      "  pd.read_csv(os.path.join(month, file)),\n"
     ]
    },
    {
     "name": "stdout",
     "output_type": "stream",
     "text": [
      "Table with identifier staging.202406_citibike_tripdata_5 already exists\n",
      "Analyzing staging.202406_citibike_tripdata_4\n"
     ]
    },
    {
     "name": "stderr",
     "output_type": "stream",
     "text": [
      "/Users/Ashwin/Desktop/repos/cpz-citibike/src/src_components/data_load/load_duckdb.py:113: DtypeWarning: Columns (7) have mixed types. Specify dtype option on import or set low_memory=False.\n",
      "  pd.read_csv(os.path.join(month, file)),\n"
     ]
    },
    {
     "name": "stdout",
     "output_type": "stream",
     "text": [
      "Table with identifier staging.202406_citibike_tripdata_4 already exists\n",
      "Analyzing staging.202406_citibike_tripdata_1\n"
     ]
    },
    {
     "name": "stderr",
     "output_type": "stream",
     "text": [
      "/Users/Ashwin/Desktop/repos/cpz-citibike/src/src_components/data_load/load_duckdb.py:113: DtypeWarning: Columns (7) have mixed types. Specify dtype option on import or set low_memory=False.\n",
      "  pd.read_csv(os.path.join(month, file)),\n"
     ]
    },
    {
     "name": "stdout",
     "output_type": "stream",
     "text": [
      "Table with identifier staging.202406_citibike_tripdata_1 already exists\n",
      "Analyzing staging.202406_citibike_tripdata_3\n"
     ]
    },
    {
     "name": "stderr",
     "output_type": "stream",
     "text": [
      "/Users/Ashwin/Desktop/repos/cpz-citibike/src/src_components/data_load/load_duckdb.py:113: DtypeWarning: Columns (5,7) have mixed types. Specify dtype option on import or set low_memory=False.\n",
      "  pd.read_csv(os.path.join(month, file)),\n"
     ]
    },
    {
     "name": "stdout",
     "output_type": "stream",
     "text": [
      "Table with identifier staging.202406_citibike_tripdata_3 already exists\n",
      "Analyzing staging.202406_citibike_tripdata_2\n"
     ]
    },
    {
     "name": "stderr",
     "output_type": "stream",
     "text": [
      "/Users/Ashwin/Desktop/repos/cpz-citibike/src/src_components/data_load/load_duckdb.py:113: DtypeWarning: Columns (5,7) have mixed types. Specify dtype option on import or set low_memory=False.\n",
      "  pd.read_csv(os.path.join(month, file)),\n"
     ]
    },
    {
     "name": "stdout",
     "output_type": "stream",
     "text": [
      "Table with identifier staging.202406_citibike_tripdata_2 already exists\n",
      "Analyzing staging.202407_citibike_tripdata_2\n"
     ]
    },
    {
     "name": "stderr",
     "output_type": "stream",
     "text": [
      "/Users/Ashwin/Desktop/repos/cpz-citibike/src/src_components/data_load/load_duckdb.py:113: DtypeWarning: Columns (8) have mixed types. Specify dtype option on import or set low_memory=False.\n",
      "  pd.read_csv(os.path.join(month, file)),\n"
     ]
    },
    {
     "name": "stdout",
     "output_type": "stream",
     "text": [
      "Table with identifier staging.202407_citibike_tripdata_2 already exists\n",
      "Analyzing staging.202407_citibike_tripdata_3\n"
     ]
    },
    {
     "name": "stderr",
     "output_type": "stream",
     "text": [
      "/Users/Ashwin/Desktop/repos/cpz-citibike/src/src_components/data_load/load_duckdb.py:113: DtypeWarning: Columns (8) have mixed types. Specify dtype option on import or set low_memory=False.\n",
      "  pd.read_csv(os.path.join(month, file)),\n"
     ]
    },
    {
     "name": "stdout",
     "output_type": "stream",
     "text": [
      "Table with identifier staging.202407_citibike_tripdata_3 already exists\n",
      "Analyzing staging.202407_citibike_tripdata_1\n"
     ]
    },
    {
     "name": "stderr",
     "output_type": "stream",
     "text": [
      "/Users/Ashwin/Desktop/repos/cpz-citibike/src/src_components/data_load/load_duckdb.py:113: DtypeWarning: Columns (8) have mixed types. Specify dtype option on import or set low_memory=False.\n",
      "  pd.read_csv(os.path.join(month, file)),\n"
     ]
    },
    {
     "name": "stdout",
     "output_type": "stream",
     "text": [
      "Table with identifier staging.202407_citibike_tripdata_1 already exists\n",
      "Analyzing staging.202407_citibike_tripdata_4\n"
     ]
    },
    {
     "name": "stderr",
     "output_type": "stream",
     "text": [
      "/Users/Ashwin/Desktop/repos/cpz-citibike/src/src_components/data_load/load_duckdb.py:113: DtypeWarning: Columns (8) have mixed types. Specify dtype option on import or set low_memory=False.\n",
      "  pd.read_csv(os.path.join(month, file)),\n"
     ]
    },
    {
     "name": "stdout",
     "output_type": "stream",
     "text": [
      "Table with identifier staging.202407_citibike_tripdata_4 already exists\n",
      "Analyzing staging.202407_citibike_tripdata_5\n"
     ]
    },
    {
     "name": "stderr",
     "output_type": "stream",
     "text": [
      "/Users/Ashwin/Desktop/repos/cpz-citibike/src/src_components/data_load/load_duckdb.py:113: DtypeWarning: Columns (6,8) have mixed types. Specify dtype option on import or set low_memory=False.\n",
      "  pd.read_csv(os.path.join(month, file)),\n"
     ]
    },
    {
     "name": "stdout",
     "output_type": "stream",
     "text": [
      "Table with identifier staging.202407_citibike_tripdata_5 already exists\n",
      "Analyzing staging.202408_citibike_tripdata_3\n"
     ]
    },
    {
     "name": "stderr",
     "output_type": "stream",
     "text": [
      "/Users/Ashwin/Desktop/repos/cpz-citibike/src/src_components/data_load/load_duckdb.py:113: DtypeWarning: Columns (6,8) have mixed types. Specify dtype option on import or set low_memory=False.\n",
      "  pd.read_csv(os.path.join(month, file)),\n"
     ]
    },
    {
     "name": "stdout",
     "output_type": "stream",
     "text": [
      "Table with identifier staging.202408_citibike_tripdata_3 already exists\n",
      "Analyzing staging.202408_citibike_tripdata_2\n"
     ]
    },
    {
     "name": "stderr",
     "output_type": "stream",
     "text": [
      "/Users/Ashwin/Desktop/repos/cpz-citibike/src/src_components/data_load/load_duckdb.py:113: DtypeWarning: Columns (6,8) have mixed types. Specify dtype option on import or set low_memory=False.\n",
      "  pd.read_csv(os.path.join(month, file)),\n"
     ]
    },
    {
     "name": "stdout",
     "output_type": "stream",
     "text": [
      "Table with identifier staging.202408_citibike_tripdata_2 already exists\n",
      "Analyzing staging.202408_citibike_tripdata_1\n"
     ]
    },
    {
     "name": "stderr",
     "output_type": "stream",
     "text": [
      "/Users/Ashwin/Desktop/repos/cpz-citibike/src/src_components/data_load/load_duckdb.py:113: DtypeWarning: Columns (6,8) have mixed types. Specify dtype option on import or set low_memory=False.\n",
      "  pd.read_csv(os.path.join(month, file)),\n"
     ]
    },
    {
     "name": "stdout",
     "output_type": "stream",
     "text": [
      "Table with identifier staging.202408_citibike_tripdata_1 already exists\n",
      "Analyzing staging.202408_citibike_tripdata_5\n"
     ]
    },
    {
     "name": "stderr",
     "output_type": "stream",
     "text": [
      "/Users/Ashwin/Desktop/repos/cpz-citibike/src/src_components/data_load/load_duckdb.py:113: DtypeWarning: Columns (6,8) have mixed types. Specify dtype option on import or set low_memory=False.\n",
      "  pd.read_csv(os.path.join(month, file)),\n"
     ]
    },
    {
     "name": "stdout",
     "output_type": "stream",
     "text": [
      "Table with identifier staging.202408_citibike_tripdata_5 already exists\n",
      "Analyzing staging.202408_citibike_tripdata_4\n"
     ]
    },
    {
     "name": "stderr",
     "output_type": "stream",
     "text": [
      "/Users/Ashwin/Desktop/repos/cpz-citibike/src/src_components/data_load/load_duckdb.py:113: DtypeWarning: Columns (6,8) have mixed types. Specify dtype option on import or set low_memory=False.\n",
      "  pd.read_csv(os.path.join(month, file)),\n"
     ]
    },
    {
     "name": "stdout",
     "output_type": "stream",
     "text": [
      "Table with identifier staging.202408_citibike_tripdata_4 already exists\n",
      "Analyzing staging.202409_citibike_tripdata_4\n"
     ]
    },
    {
     "name": "stderr",
     "output_type": "stream",
     "text": [
      "/Users/Ashwin/Desktop/repos/cpz-citibike/src/src_components/data_load/load_duckdb.py:113: DtypeWarning: Columns (5,7) have mixed types. Specify dtype option on import or set low_memory=False.\n",
      "  pd.read_csv(os.path.join(month, file)),\n"
     ]
    },
    {
     "name": "stdout",
     "output_type": "stream",
     "text": [
      "Table with identifier staging.202409_citibike_tripdata_4 already exists\n",
      "Analyzing staging.202409_citibike_tripdata_5\n"
     ]
    },
    {
     "name": "stderr",
     "output_type": "stream",
     "text": [
      "/Users/Ashwin/Desktop/repos/cpz-citibike/src/src_components/data_load/load_duckdb.py:113: DtypeWarning: Columns (7) have mixed types. Specify dtype option on import or set low_memory=False.\n",
      "  pd.read_csv(os.path.join(month, file)),\n"
     ]
    },
    {
     "name": "stdout",
     "output_type": "stream",
     "text": [
      "Table with identifier staging.202409_citibike_tripdata_5 already exists\n",
      "Analyzing staging.202409_citibike_tripdata_1\n"
     ]
    },
    {
     "name": "stderr",
     "output_type": "stream",
     "text": [
      "/Users/Ashwin/Desktop/repos/cpz-citibike/src/src_components/data_load/load_duckdb.py:113: DtypeWarning: Columns (5,7) have mixed types. Specify dtype option on import or set low_memory=False.\n",
      "  pd.read_csv(os.path.join(month, file)),\n"
     ]
    },
    {
     "name": "stdout",
     "output_type": "stream",
     "text": [
      "Table with identifier staging.202409_citibike_tripdata_1 already exists\n",
      "Analyzing staging.202409_citibike_tripdata_2\n"
     ]
    },
    {
     "name": "stderr",
     "output_type": "stream",
     "text": [
      "/Users/Ashwin/Desktop/repos/cpz-citibike/src/src_components/data_load/load_duckdb.py:113: DtypeWarning: Columns (7) have mixed types. Specify dtype option on import or set low_memory=False.\n",
      "  pd.read_csv(os.path.join(month, file)),\n"
     ]
    },
    {
     "name": "stdout",
     "output_type": "stream",
     "text": [
      "Table with identifier staging.202409_citibike_tripdata_2 already exists\n",
      "Analyzing staging.202409_citibike_tripdata_3\n"
     ]
    },
    {
     "name": "stderr",
     "output_type": "stream",
     "text": [
      "/Users/Ashwin/Desktop/repos/cpz-citibike/src/src_components/data_load/load_duckdb.py:113: DtypeWarning: Columns (5,7) have mixed types. Specify dtype option on import or set low_memory=False.\n",
      "  pd.read_csv(os.path.join(month, file)),\n"
     ]
    },
    {
     "name": "stdout",
     "output_type": "stream",
     "text": [
      "Table with identifier staging.202409_citibike_tripdata_3 already exists\n",
      "Analyzing staging.202410_citibike_tripdata_6\n"
     ]
    },
    {
     "name": "stderr",
     "output_type": "stream",
     "text": [
      "/Users/Ashwin/Desktop/repos/cpz-citibike/src/src_components/data_load/load_duckdb.py:113: DtypeWarning: Columns (5) have mixed types. Specify dtype option on import or set low_memory=False.\n",
      "  pd.read_csv(os.path.join(month, file)),\n"
     ]
    },
    {
     "name": "stdout",
     "output_type": "stream",
     "text": [
      "Table with identifier staging.202410_citibike_tripdata_6 already exists\n",
      "Analyzing staging.202410_citibike_tripdata_4\n"
     ]
    },
    {
     "name": "stderr",
     "output_type": "stream",
     "text": [
      "/Users/Ashwin/Desktop/repos/cpz-citibike/src/src_components/data_load/load_duckdb.py:113: DtypeWarning: Columns (5,7) have mixed types. Specify dtype option on import or set low_memory=False.\n",
      "  pd.read_csv(os.path.join(month, file)),\n"
     ]
    },
    {
     "name": "stdout",
     "output_type": "stream",
     "text": [
      "Table with identifier staging.202410_citibike_tripdata_4 already exists\n",
      "Analyzing staging.202410_citibike_tripdata_5\n"
     ]
    },
    {
     "name": "stderr",
     "output_type": "stream",
     "text": [
      "/Users/Ashwin/Desktop/repos/cpz-citibike/src/src_components/data_load/load_duckdb.py:113: DtypeWarning: Columns (5,7) have mixed types. Specify dtype option on import or set low_memory=False.\n",
      "  pd.read_csv(os.path.join(month, file)),\n"
     ]
    },
    {
     "name": "stdout",
     "output_type": "stream",
     "text": [
      "Table with identifier staging.202410_citibike_tripdata_5 already exists\n",
      "Analyzing staging.202410_citibike_tripdata_1\n"
     ]
    },
    {
     "name": "stderr",
     "output_type": "stream",
     "text": [
      "/Users/Ashwin/Desktop/repos/cpz-citibike/src/src_components/data_load/load_duckdb.py:113: DtypeWarning: Columns (5,7) have mixed types. Specify dtype option on import or set low_memory=False.\n",
      "  pd.read_csv(os.path.join(month, file)),\n"
     ]
    },
    {
     "name": "stdout",
     "output_type": "stream",
     "text": [
      "Table with identifier staging.202410_citibike_tripdata_1 already exists\n",
      "Analyzing staging.202410_citibike_tripdata_2\n"
     ]
    },
    {
     "name": "stderr",
     "output_type": "stream",
     "text": [
      "/Users/Ashwin/Desktop/repos/cpz-citibike/src/src_components/data_load/load_duckdb.py:113: DtypeWarning: Columns (7) have mixed types. Specify dtype option on import or set low_memory=False.\n",
      "  pd.read_csv(os.path.join(month, file)),\n"
     ]
    },
    {
     "name": "stdout",
     "output_type": "stream",
     "text": [
      "Table with identifier staging.202410_citibike_tripdata_2 already exists\n",
      "Analyzing staging.202410_citibike_tripdata_3\n"
     ]
    },
    {
     "name": "stderr",
     "output_type": "stream",
     "text": [
      "/Users/Ashwin/Desktop/repos/cpz-citibike/src/src_components/data_load/load_duckdb.py:113: DtypeWarning: Columns (5,7) have mixed types. Specify dtype option on import or set low_memory=False.\n",
      "  pd.read_csv(os.path.join(month, file)),\n"
     ]
    },
    {
     "name": "stdout",
     "output_type": "stream",
     "text": [
      "Table with identifier staging.202410_citibike_tripdata_3 already exists\n",
      "Analyzing staging.202411_citibike_tripdata_3\n"
     ]
    },
    {
     "name": "stderr",
     "output_type": "stream",
     "text": [
      "/Users/Ashwin/Desktop/repos/cpz-citibike/src/src_components/data_load/load_duckdb.py:113: DtypeWarning: Columns (5,7) have mixed types. Specify dtype option on import or set low_memory=False.\n",
      "  pd.read_csv(os.path.join(month, file)),\n"
     ]
    },
    {
     "name": "stdout",
     "output_type": "stream",
     "text": [
      "Table with identifier staging.202411_citibike_tripdata_3 already exists\n",
      "Analyzing staging.202411_citibike_tripdata_2\n"
     ]
    },
    {
     "name": "stderr",
     "output_type": "stream",
     "text": [
      "/Users/Ashwin/Desktop/repos/cpz-citibike/src/src_components/data_load/load_duckdb.py:113: DtypeWarning: Columns (7) have mixed types. Specify dtype option on import or set low_memory=False.\n",
      "  pd.read_csv(os.path.join(month, file)),\n"
     ]
    },
    {
     "name": "stdout",
     "output_type": "stream",
     "text": [
      "Table with identifier staging.202411_citibike_tripdata_2 already exists\n",
      "Analyzing staging.202411_citibike_tripdata_1\n"
     ]
    },
    {
     "name": "stderr",
     "output_type": "stream",
     "text": [
      "/Users/Ashwin/Desktop/repos/cpz-citibike/src/src_components/data_load/load_duckdb.py:113: DtypeWarning: Columns (7) have mixed types. Specify dtype option on import or set low_memory=False.\n",
      "  pd.read_csv(os.path.join(month, file)),\n"
     ]
    },
    {
     "name": "stdout",
     "output_type": "stream",
     "text": [
      "Table with identifier staging.202411_citibike_tripdata_1 already exists\n",
      "Analyzing staging.202411_citibike_tripdata_4\n"
     ]
    },
    {
     "name": "stderr",
     "output_type": "stream",
     "text": [
      "/Users/Ashwin/Desktop/repos/cpz-citibike/src/src_components/data_load/load_duckdb.py:113: DtypeWarning: Columns (7) have mixed types. Specify dtype option on import or set low_memory=False.\n",
      "  pd.read_csv(os.path.join(month, file)),\n"
     ]
    },
    {
     "name": "stdout",
     "output_type": "stream",
     "text": [
      "Table with identifier staging.202411_citibike_tripdata_4 already exists\n",
      "Analyzing staging.202412_citibike_tripdata_1\n"
     ]
    },
    {
     "name": "stderr",
     "output_type": "stream",
     "text": [
      "/Users/Ashwin/Desktop/repos/cpz-citibike/src/src_components/data_load/load_duckdb.py:113: DtypeWarning: Columns (5,7) have mixed types. Specify dtype option on import or set low_memory=False.\n",
      "  pd.read_csv(os.path.join(month, file)),\n"
     ]
    },
    {
     "name": "stdout",
     "output_type": "stream",
     "text": [
      "Table with identifier staging.202412_citibike_tripdata_1 already exists\n",
      "Analyzing staging.202412_citibike_tripdata_3\n",
      "Table with identifier staging.202412_citibike_tripdata_3 already exists\n",
      "Analyzing staging.202412_citibike_tripdata_2\n"
     ]
    },
    {
     "name": "stderr",
     "output_type": "stream",
     "text": [
      "/Users/Ashwin/Desktop/repos/cpz-citibike/src/src_components/data_load/load_duckdb.py:113: DtypeWarning: Columns (5,7) have mixed types. Specify dtype option on import or set low_memory=False.\n",
      "  pd.read_csv(os.path.join(month, file)),\n"
     ]
    },
    {
     "name": "stdout",
     "output_type": "stream",
     "text": [
      "Table with identifier staging.202412_citibike_tripdata_2 already exists\n",
      "Analyzing staging.202501_citibike_tripdata_1\n"
     ]
    },
    {
     "name": "stderr",
     "output_type": "stream",
     "text": [
      "/Users/Ashwin/Desktop/repos/cpz-citibike/src/src_components/data_load/load_duckdb.py:113: DtypeWarning: Columns (5,7) have mixed types. Specify dtype option on import or set low_memory=False.\n",
      "  pd.read_csv(os.path.join(month, file)),\n"
     ]
    },
    {
     "name": "stdout",
     "output_type": "stream",
     "text": [
      "Table with identifier staging.202501_citibike_tripdata_1 already exists\n",
      "Analyzing staging.202501_citibike_tripdata_3\n",
      "Table with identifier staging.202501_citibike_tripdata_3 already exists\n",
      "Analyzing staging.202501_citibike_tripdata_2\n"
     ]
    },
    {
     "name": "stderr",
     "output_type": "stream",
     "text": [
      "/Users/Ashwin/Desktop/repos/cpz-citibike/src/src_components/data_load/load_duckdb.py:113: DtypeWarning: Columns (5,7) have mixed types. Specify dtype option on import or set low_memory=False.\n",
      "  pd.read_csv(os.path.join(month, file)),\n"
     ]
    },
    {
     "name": "stdout",
     "output_type": "stream",
     "text": [
      "Table with identifier staging.202501_citibike_tripdata_2 already exists\n",
      "Analyzing staging.202502_citibike_tripdata_3\n",
      "Table with identifier staging.202502_citibike_tripdata_3 already exists\n",
      "Analyzing staging.202502_citibike_tripdata_2\n"
     ]
    },
    {
     "name": "stderr",
     "output_type": "stream",
     "text": [
      "/Users/Ashwin/Desktop/repos/cpz-citibike/src/src_components/data_load/load_duckdb.py:113: DtypeWarning: Columns (5,7) have mixed types. Specify dtype option on import or set low_memory=False.\n",
      "  pd.read_csv(os.path.join(month, file)),\n"
     ]
    },
    {
     "name": "stdout",
     "output_type": "stream",
     "text": [
      "Table with identifier staging.202502_citibike_tripdata_2 already exists\n",
      "Analyzing staging.202502_citibike_tripdata_1\n"
     ]
    },
    {
     "name": "stderr",
     "output_type": "stream",
     "text": [
      "/Users/Ashwin/Desktop/repos/cpz-citibike/src/src_components/data_load/load_duckdb.py:113: DtypeWarning: Columns (5,7) have mixed types. Specify dtype option on import or set low_memory=False.\n",
      "  pd.read_csv(os.path.join(month, file)),\n"
     ]
    },
    {
     "name": "stdout",
     "output_type": "stream",
     "text": [
      "Table with identifier staging.202502_citibike_tripdata_1 already exists\n",
      "Analyzing staging.202503_citibike_tripdata\n"
     ]
    },
    {
     "name": "stderr",
     "output_type": "stream",
     "text": [
      "/Users/Ashwin/Desktop/repos/cpz-citibike/src/src_components/data_load/load_duckdb.py:113: DtypeWarning: Columns (5,7) have mixed types. Specify dtype option on import or set low_memory=False.\n",
      "  pd.read_csv(os.path.join(month, file)),\n"
     ]
    },
    {
     "name": "stdout",
     "output_type": "stream",
     "text": [
      "Table with identifier staging.202503_citibike_tripdata already exists\n",
      "Analyzing staging.202504_citibike_tripdata_3\n"
     ]
    },
    {
     "name": "stderr",
     "output_type": "stream",
     "text": [
      "/Users/Ashwin/Desktop/repos/cpz-citibike/src/src_components/data_load/load_duckdb.py:113: DtypeWarning: Columns (5,7) have mixed types. Specify dtype option on import or set low_memory=False.\n",
      "  pd.read_csv(os.path.join(month, file)),\n"
     ]
    },
    {
     "name": "stdout",
     "output_type": "stream",
     "text": [
      "Table with identifier staging.202504_citibike_tripdata_3 already exists\n",
      "Analyzing staging.202504_citibike_tripdata_2\n"
     ]
    },
    {
     "name": "stderr",
     "output_type": "stream",
     "text": [
      "/Users/Ashwin/Desktop/repos/cpz-citibike/src/src_components/data_load/load_duckdb.py:113: DtypeWarning: Columns (5,7) have mixed types. Specify dtype option on import or set low_memory=False.\n",
      "  pd.read_csv(os.path.join(month, file)),\n"
     ]
    },
    {
     "name": "stdout",
     "output_type": "stream",
     "text": [
      "Table with identifier staging.202504_citibike_tripdata_2 already exists\n",
      "Analyzing staging.202504_citibike_tripdata_1\n"
     ]
    },
    {
     "name": "stderr",
     "output_type": "stream",
     "text": [
      "/Users/Ashwin/Desktop/repos/cpz-citibike/src/src_components/data_load/load_duckdb.py:113: DtypeWarning: Columns (5) have mixed types. Specify dtype option on import or set low_memory=False.\n",
      "  pd.read_csv(os.path.join(month, file)),\n"
     ]
    },
    {
     "name": "stdout",
     "output_type": "stream",
     "text": [
      "Table with identifier staging.202504_citibike_tripdata_1 already exists\n",
      "Analyzing staging.202504_citibike_tripdata_4\n"
     ]
    },
    {
     "name": "stderr",
     "output_type": "stream",
     "text": [
      "/Users/Ashwin/Desktop/repos/cpz-citibike/src/src_components/data_load/load_duckdb.py:113: DtypeWarning: Columns (5,7) have mixed types. Specify dtype option on import or set low_memory=False.\n",
      "  pd.read_csv(os.path.join(month, file)),\n"
     ]
    },
    {
     "name": "stdout",
     "output_type": "stream",
     "text": [
      "Table with identifier staging.202504_citibike_tripdata_4 already exists\n",
      "Analyzing staging.202505_citibike_tripdata_4\n"
     ]
    },
    {
     "name": "stderr",
     "output_type": "stream",
     "text": [
      "/Users/Ashwin/Desktop/repos/cpz-citibike/src/src_components/data_load/load_duckdb.py:113: DtypeWarning: Columns (5,7) have mixed types. Specify dtype option on import or set low_memory=False.\n",
      "  pd.read_csv(os.path.join(month, file)),\n"
     ]
    },
    {
     "name": "stdout",
     "output_type": "stream",
     "text": [
      "Table does not exist. Creating table with identifier staging.202505_citibike_tripdata_4\n",
      "Analyzing staging.202505_citibike_tripdata_5\n"
     ]
    },
    {
     "name": "stderr",
     "output_type": "stream",
     "text": [
      "/Users/Ashwin/Desktop/repos/cpz-citibike/src/src_components/data_load/load_duckdb.py:113: DtypeWarning: Columns (7) have mixed types. Specify dtype option on import or set low_memory=False.\n",
      "  pd.read_csv(os.path.join(month, file)),\n"
     ]
    },
    {
     "name": "stdout",
     "output_type": "stream",
     "text": [
      "Table does not exist. Creating table with identifier staging.202505_citibike_tripdata_5\n",
      "Analyzing staging.202505_citibike_tripdata_1\n"
     ]
    },
    {
     "name": "stderr",
     "output_type": "stream",
     "text": [
      "/Users/Ashwin/Desktop/repos/cpz-citibike/src/src_components/data_load/load_duckdb.py:113: DtypeWarning: Columns (5,7) have mixed types. Specify dtype option on import or set low_memory=False.\n",
      "  pd.read_csv(os.path.join(month, file)),\n"
     ]
    },
    {
     "name": "stdout",
     "output_type": "stream",
     "text": [
      "Table does not exist. Creating table with identifier staging.202505_citibike_tripdata_1\n",
      "Analyzing staging.202505_citibike_tripdata_2\n"
     ]
    },
    {
     "name": "stderr",
     "output_type": "stream",
     "text": [
      "/Users/Ashwin/Desktop/repos/cpz-citibike/src/src_components/data_load/load_duckdb.py:113: DtypeWarning: Columns (7) have mixed types. Specify dtype option on import or set low_memory=False.\n",
      "  pd.read_csv(os.path.join(month, file)),\n"
     ]
    },
    {
     "name": "stdout",
     "output_type": "stream",
     "text": [
      "Table does not exist. Creating table with identifier staging.202505_citibike_tripdata_2\n",
      "Analyzing staging.202505_citibike_tripdata_3\n"
     ]
    },
    {
     "name": "stderr",
     "output_type": "stream",
     "text": [
      "/Users/Ashwin/Desktop/repos/cpz-citibike/src/src_components/data_load/load_duckdb.py:113: DtypeWarning: Columns (7) have mixed types. Specify dtype option on import or set low_memory=False.\n",
      "  pd.read_csv(os.path.join(month, file)),\n"
     ]
    },
    {
     "name": "stdout",
     "output_type": "stream",
     "text": [
      "Table does not exist. Creating table with identifier staging.202505_citibike_tripdata_3\n"
     ]
    }
   ],
   "source": [
    "create_all_tables()"
   ]
  },
  {
   "cell_type": "code",
   "execution_count": null,
   "metadata": {},
   "outputs": [],
   "source": [
    "create_polygon()"
   ]
  }
 ],
 "metadata": {
  "kernelspec": {
   "display_name": "cpz-citibike-2",
   "language": "python",
   "name": "python3"
  },
  "language_info": {
   "codemirror_mode": {
    "name": "ipython",
    "version": 3
   },
   "file_extension": ".py",
   "mimetype": "text/x-python",
   "name": "python",
   "nbconvert_exporter": "python",
   "pygments_lexer": "ipython3",
   "version": "3.11.11"
  }
 },
 "nbformat": 4,
 "nbformat_minor": 2
}
