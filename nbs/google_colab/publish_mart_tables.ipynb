{
  "cells": [
    {
      "cell_type": "code",
      "execution_count": null,
      "metadata": {
        "colab": {
          "base_uri": "https://localhost:8080/"
        },
        "id": "IU1iiDEi1W7t",
        "outputId": "14a110ae-4aea-4700-b75a-51b6a8601fcc"
      },
      "outputs": [],
      "source": [
        "%pip install duckdb duckdb-engine==0.15.0 jupysql==0.11.0"
      ]
    },
    {
      "cell_type": "code",
      "execution_count": null,
      "metadata": {
        "colab": {
          "base_uri": "https://localhost:8080/"
        },
        "id": "5diJvCx6L0wh",
        "outputId": "ac6dd211-78e4-405c-a47f-bf8629e313f5"
      },
      "outputs": [],
      "source": [
        "from google.colab import drive\n",
        "from google.colab import auth\n",
        "from google.auth import default\n",
        "import gspread\n",
        "import duckdb\n",
        "import pandas as pd\n",
        "\n",
        "drive.mount('/content/drive')\n",
        "%load_ext sql"
      ]
    },
    {
      "cell_type": "code",
      "execution_count": 3,
      "metadata": {
        "id": "zuCZBIbfMBzM"
      },
      "outputs": [],
      "source": [
        "auth.authenticate_user()\n",
        "creds, _ = default()\n",
        "gc = gspread.authorize(creds)"
      ]
    },
    {
      "cell_type": "code",
      "execution_count": null,
      "metadata": {
        "id": "O2Ah4Ln7LcFh"
      },
      "outputs": [],
      "source": [
        "spreadsheet = gc.open(\"mart_tables\")\n",
        "fct_citibike_rides_by_year = spreadsheet.worksheet('fct_citibike_rides_by_ym')\n",
        "dim_citibike_stations = spreadsheet.worksheet('dim_citibike_stations')"
      ]
    },
    {
      "cell_type": "code",
      "execution_count": null,
      "metadata": {
        "id": "jfuOl-wy18ZA"
      },
      "outputs": [],
      "source": [
        "df_fct_citibike_rides_by_year = None\n",
        "df_dim_citibike_stations = None\n",
        "\n",
        "with duckdb.connect('/content/drive/MyDrive/citibike_analysis/dev.duckdb') as conn:\n",
        "    df_fct_citibike_rides_by_year = conn.sql('select * from fct_citibike_rides_by_ym').df()\n",
        "    df_dim_citibike_stations = conn.sql('select * from dim_citibike_stations').df()\n",
        "\n",
        "    fct_citibike_rides_by_year.update([df_fct_citibike_rides_by_year.columns.values.tolist()] + df_fct_citibike_rides_by_year.fillna(-1).values.tolist())\n",
        "    dim_citibike_stations.update([df_dim_citibike_stations.columns.values.tolist()] + df_dim_citibike_stations.fillna(-1).values.tolist())"
      ]
    },
    {
      "cell_type": "code",
      "execution_count": 5,
      "metadata": {
        "id": "smn3VPPSRPbd"
      },
      "outputs": [],
      "source": []
    }
  ],
  "metadata": {
    "colab": {
      "provenance": []
    },
    "kernelspec": {
      "display_name": "Python 3",
      "name": "python3"
    },
    "language_info": {
      "name": "python"
    }
  },
  "nbformat": 4,
  "nbformat_minor": 0
}
