{
 "cells": [
  {
   "cell_type": "code",
   "execution_count": 1,
   "metadata": {},
   "outputs": [],
   "source": [
    "from src_components.data_load.load_duckdb import get_database_connection"
   ]
  },
  {
   "cell_type": "code",
   "execution_count": 2,
   "metadata": {},
   "outputs": [],
   "source": [
    "import duckdb\n",
    "import pandas as pd\n",
    "%load_ext sql"
   ]
  },
  {
   "cell_type": "code",
   "execution_count": 3,
   "metadata": {},
   "outputs": [],
   "source": [
    "%config SqlMagic.autopandas = True\n",
    "%config SqlMagic.feedback = False\n",
    "%config SqlMagic.displaycon = False"
   ]
  },
  {
   "cell_type": "code",
   "execution_count": null,
   "metadata": {},
   "outputs": [
    {
     "ename": "",
     "evalue": "",
     "output_type": "error",
     "traceback": [
      "\u001b[1;31mThe Kernel crashed while executing code in the current cell or a previous cell. \n",
      "\u001b[1;31mPlease review the code in the cell(s) to identify a possible cause of the failure. \n",
      "\u001b[1;31mClick <a href='https://aka.ms/vscodeJupyterKernelCrash'>here</a> for more info. \n",
      "\u001b[1;31mView Jupyter <a href='command:jupyter.viewOutput'>log</a> for further details."
     ]
    }
   ],
   "source": [
    "%sql duckdb:////Users/ashwin/Desktop/cpz_citibike/src/src_components/data_transform/dev.duckdb"
   ]
  },
  {
   "cell_type": "code",
   "execution_count": null,
   "metadata": {},
   "outputs": [],
   "source": [
    "pd.set_option('display.max_rows', 50)\n",
    "pd.set_option('display.max_columns', None)"
   ]
  },
  {
   "cell_type": "markdown",
   "metadata": {},
   "source": [
    "### Access the database with SQL"
   ]
  },
  {
   "cell_type": "code",
   "execution_count": null,
   "metadata": {},
   "outputs": [],
   "source": [
    "%%sql\n",
    "select count(*) from fct_citibike_rides where end_station_id is Null"
   ]
  },
  {
   "cell_type": "markdown",
   "metadata": {},
   "source": [
    "### Access the database with Python"
   ]
  },
  {
   "cell_type": "code",
   "execution_count": null,
   "metadata": {},
   "outputs": [
    {
     "name": "stdout",
     "output_type": "stream",
     "text": [
      "┌──────────────────┬───────────────┬─────────────────────────┬─────────────────────────┬───────────────────────────────┬──────────────────┬────────────────────┬────────────────┬───────────────────┬────────────────────┬─────────────┬──────────────┬───────────────┐\n",
      "│     ride_id      │ rideable_type │       started_at        │        ended_at         │      start_station_name       │ start_station_id │  end_station_name  │ end_station_id │     start_lat     │     start_lng      │   end_lat   │   end_lng    │ member_casual │\n",
      "│     varchar      │    varchar    │         varchar         │         varchar         │            varchar            │     varchar      │      varchar       │    varchar     │      double       │       double       │   double    │    double    │    varchar    │\n",
      "├──────────────────┼───────────────┼─────────────────────────┼─────────────────────────┼───────────────────────────────┼──────────────────┼────────────────────┼────────────────┼───────────────────┼────────────────────┼─────────────┼──────────────┼───────────────┤\n",
      "│ C2BABCB05E7B37B6 │ electric_bike │ 2023-07-09 11:32:41.896 │ 2023-07-09 11:42:48.435 │ Washington St & Gansevoort St │ 6039.06          │ E 14 St & Avenue B │ 5736.09        │ 40.75009106666667 │ -73.93967853333334 │ 40.72938685 │ -73.97772429 │ member        │\n",
      "└──────────────────┴───────────────┴─────────────────────────┴─────────────────────────┴───────────────────────────────┴──────────────────┴────────────────────┴────────────────┴───────────────────┴────────────────────┴─────────────┴──────────────┴───────────────┘\n",
      "\n"
     ]
    }
   ],
   "source": [
    "with duckdb.connect(database='/Users/ashwin/Desktop/cpz_citibike/src/src_components/data_transform/dev.duckdb', read_only=True) as conn:\n",
    "    conn.sql(\"select * from staging.\\\"202307_citibike_tripdata_4\\\" where ride_id = 'C2BABCB05E7B37B6'\").show()"
   ]
  },
  {
   "cell_type": "markdown",
   "metadata": {},
   "source": [
    "Sometimes you'll get a weird transaction failure in DuckDB. Executing the statement below usually does the trick to get the database to a usable state. "
   ]
  },
  {
   "cell_type": "code",
   "execution_count": null,
   "metadata": {},
   "outputs": [],
   "source": [
    "# %%sql\n",
    "# ROLLBACK;"
   ]
  }
 ],
 "metadata": {
  "kernelspec": {
   "display_name": "cpz-citibike-2",
   "language": "python",
   "name": "python3"
  },
  "language_info": {
   "codemirror_mode": {
    "name": "ipython",
    "version": 3
   },
   "file_extension": ".py",
   "mimetype": "text/x-python",
   "name": "python",
   "nbconvert_exporter": "python",
   "pygments_lexer": "ipython3",
   "version": "3.11.11"
  }
 },
 "nbformat": 4,
 "nbformat_minor": 2
}
