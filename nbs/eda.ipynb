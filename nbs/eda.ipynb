{
 "cells": [
  {
   "cell_type": "code",
   "execution_count": 1,
   "metadata": {},
   "outputs": [],
   "source": [
    "from src_components.data_load.load_duckdb import get_database_connection"
   ]
  },
  {
   "cell_type": "code",
   "execution_count": 2,
   "metadata": {},
   "outputs": [],
   "source": [
    "import duckdb\n",
    "import pandas as pd\n",
    "%load_ext sql"
   ]
  },
  {
   "cell_type": "code",
   "execution_count": 3,
   "metadata": {},
   "outputs": [],
   "source": [
    "%config SqlMagic.autopandas = True\n",
    "%config SqlMagic.feedback = False\n",
    "%config SqlMagic.displaycon = False"
   ]
  },
  {
   "cell_type": "code",
   "execution_count": 4,
   "metadata": {},
   "outputs": [],
   "source": [
    "%sql duckdb:////Users/Ashwin/Desktop/repos/cpz-citibike/src/src_components/data_transform/dev.duckdb"
   ]
  },
  {
   "cell_type": "code",
   "execution_count": 5,
   "metadata": {},
   "outputs": [],
   "source": [
    "pd.set_option('display.max_rows', 50)\n",
    "pd.set_option('display.max_columns', None)"
   ]
  },
  {
   "cell_type": "markdown",
   "metadata": {},
   "source": [
    "### Access the database with SQL"
   ]
  },
  {
   "cell_type": "code",
   "execution_count": 6,
   "metadata": {},
   "outputs": [
    {
     "data": {
      "text/html": [
       "<div>\n",
       "<style scoped>\n",
       "    .dataframe tbody tr th:only-of-type {\n",
       "        vertical-align: middle;\n",
       "    }\n",
       "\n",
       "    .dataframe tbody tr th {\n",
       "        vertical-align: top;\n",
       "    }\n",
       "\n",
       "    .dataframe thead th {\n",
       "        text-align: right;\n",
       "    }\n",
       "</style>\n",
       "<table border=\"1\" class=\"dataframe\">\n",
       "  <thead>\n",
       "    <tr style=\"text-align: right;\">\n",
       "      <th></th>\n",
       "      <th>max(started_at)</th>\n",
       "    </tr>\n",
       "  </thead>\n",
       "  <tbody>\n",
       "    <tr>\n",
       "      <th>0</th>\n",
       "      <td>2025-05-31 23:58:06</td>\n",
       "    </tr>\n",
       "  </tbody>\n",
       "</table>\n",
       "</div>"
      ],
      "text/plain": [
       "      max(started_at)\n",
       "0 2025-05-31 23:58:06"
      ]
     },
     "execution_count": 6,
     "metadata": {},
     "output_type": "execute_result"
    }
   ],
   "source": [
    "%%sql\n",
    "select max(started_at) from fct_citibike_rides"
   ]
  },
  {
   "cell_type": "markdown",
   "metadata": {},
   "source": [
    "### Access the database with Python"
   ]
  },
  {
   "cell_type": "code",
   "execution_count": null,
   "metadata": {},
   "outputs": [
    {
     "name": "stdout",
     "output_type": "stream",
     "text": [
      "┌──────────────────┬───────────────┬─────────────────────────┬─────────────────────────┬───────────────────────────────┬──────────────────┬────────────────────┬────────────────┬───────────────────┬────────────────────┬─────────────┬──────────────┬───────────────┐\n",
      "│     ride_id      │ rideable_type │       started_at        │        ended_at         │      start_station_name       │ start_station_id │  end_station_name  │ end_station_id │     start_lat     │     start_lng      │   end_lat   │   end_lng    │ member_casual │\n",
      "│     varchar      │    varchar    │         varchar         │         varchar         │            varchar            │     varchar      │      varchar       │    varchar     │      double       │       double       │   double    │    double    │    varchar    │\n",
      "├──────────────────┼───────────────┼─────────────────────────┼─────────────────────────┼───────────────────────────────┼──────────────────┼────────────────────┼────────────────┼───────────────────┼────────────────────┼─────────────┼──────────────┼───────────────┤\n",
      "│ C2BABCB05E7B37B6 │ electric_bike │ 2023-07-09 11:32:41.896 │ 2023-07-09 11:42:48.435 │ Washington St & Gansevoort St │ 6039.06          │ E 14 St & Avenue B │ 5736.09        │ 40.75009106666667 │ -73.93967853333334 │ 40.72938685 │ -73.97772429 │ member        │\n",
      "└──────────────────┴───────────────┴─────────────────────────┴─────────────────────────┴───────────────────────────────┴──────────────────┴────────────────────┴────────────────┴───────────────────┴────────────────────┴─────────────┴──────────────┴───────────────┘\n",
      "\n"
     ]
    }
   ],
   "source": [
    "with duckdb.connect(database='/Users/ashwin/Desktop/cpz_citibike/src/src_components/data_transform/dev.duckdb', read_only=True) as conn:\n",
    "    conn.sql(\"select * from staging.\\\"202307_citibike_tripdata_4\\\" where ride_id = 'C2BABCB05E7B37B6'\").show()"
   ]
  },
  {
   "cell_type": "markdown",
   "metadata": {},
   "source": [
    "Sometimes you'll get a weird transaction failure in DuckDB. Executing the statement below usually does the trick to get the database to a usable state. "
   ]
  },
  {
   "cell_type": "code",
   "execution_count": null,
   "metadata": {},
   "outputs": [],
   "source": [
    "# %%sql\n",
    "# ROLLBACK;"
   ]
  }
 ],
 "metadata": {
  "kernelspec": {
   "display_name": "cpz-citibike-2",
   "language": "python",
   "name": "python3"
  },
  "language_info": {
   "codemirror_mode": {
    "name": "ipython",
    "version": 3
   },
   "file_extension": ".py",
   "mimetype": "text/x-python",
   "name": "python",
   "nbconvert_exporter": "python",
   "pygments_lexer": "ipython3",
   "version": "3.11.11"
  }
 },
 "nbformat": 4,
 "nbformat_minor": 2
}
