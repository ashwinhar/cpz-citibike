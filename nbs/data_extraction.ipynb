{
 "cells": [
  {
   "cell_type": "code",
   "execution_count": null,
   "metadata": {},
   "outputs": [],
   "source": [
    "from src_components.data_extraction.extract import (\n",
    "    get_existing_citibike_files,\n",
    "    find_all_downloadable_files,\n",
    "    find_files_of_interest,\n",
    "    download_files,\n",
    "    unzip_file_recursive\n",
    ")\n",
    "from src_constants.extract_constants import (\n",
    "    CITIBIKE_URL,\n",
    "    RAW_DATA_FOLDER,\n",
    "    RE_PATTERN,\n",
    "    YEAR_FLOOR,\n",
    ")"
   ]
  },
  {
   "cell_type": "code",
   "execution_count": 8,
   "metadata": {},
   "outputs": [
    {
     "name": "stdout",
     "output_type": "stream",
     "text": [
      "Found 139 zip files.\n"
     ]
    }
   ],
   "source": [
    "existing_files = get_existing_citibike_files(RAW_DATA_FOLDER)\n",
    "downloadable_files = find_all_downloadable_files(CITIBIKE_URL)"
   ]
  },
  {
   "cell_type": "code",
   "execution_count": 9,
   "metadata": {},
   "outputs": [
    {
     "name": "stdout",
     "output_type": "stream",
     "text": [
      "['2020-citibike-tripdata.zip', '2021-citibike-tripdata.zip', '2022-citibike-tripdata.zip', '2023-citibike-tripdata.zip', '202401-citibike-tripdata.csv.zip', '202402-citibike-tripdata.csv.zip', '202403-citibike-tripdata.csv.zip', '202404-citibike-tripdata.csv.zip', '202405-citibike-tripdata.zip', '202406-citibike-tripdata.zip', '202407-citibike-tripdata.zip', '202408-citibike-tripdata.zip', '202409-citibike-tripdata.zip', '202410-citibike-tripdata.zip', '202411-citibike-tripdata.zip', '202412-citibike-tripdata.zip', '202501-citibike-tripdata.zip', '202502-citibike-tripdata.zip']\n"
     ]
    }
   ],
   "source": [
    "files_of_interest = find_files_of_interest(downloadable_files, re_pattern=RE_PATTERN, year_floor=YEAR_FLOOR)\n",
    "print(files_of_interest)"
   ]
  },
  {
   "cell_type": "code",
   "execution_count": 4,
   "metadata": {},
   "outputs": [
    {
     "name": "stdout",
     "output_type": "stream",
     "text": [
      "Found 139 zip files.\n",
      "202502-citibike-tripdata.zip either not available for download or already in /Users/ashwin/Desktop/cpz_citibike/data/raw_citibike_data\n"
     ]
    }
   ],
   "source": [
    "download_files(RAW_DATA_FOLDER, CITIBIKE_URL, download_option= \"missing\")"
   ]
  },
  {
   "cell_type": "code",
   "execution_count": null,
   "metadata": {},
   "outputs": [
    {
     "name": "stdout",
     "output_type": "stream",
     "text": [
      "Attempting to unzip file at /Users/ashwin/Desktop/cpz_citibike/data/raw_citibike_data/2021-citibike-tripdata\n",
      "Attempting to unzip file at /Users/ashwin/Desktop/cpz_citibike/data/raw_citibike_data/2021-citibike-tripdata/2021-citibike-tripdata\n",
      "Attempting to unzip file at /Users/ashwin/Desktop/cpz_citibike/data/raw_citibike_data/2021-citibike-tripdata/2021-citibike-tripdata/202108-citibike-tripdata\n",
      "Attempting to unzip file at /Users/ashwin/Desktop/cpz_citibike/data/raw_citibike_data/2021-citibike-tripdata/2021-citibike-tripdata/202107-citibike-tripdata.zip\n",
      "Unzipping /Users/ashwin/Desktop/cpz_citibike/data/raw_citibike_data/2021-citibike-tripdata/2021-citibike-tripdata/202107-citibike-tripdata.zip to /Users/ashwin/Desktop/cpz_citibike/data/raw_citibike_data/2021-citibike-tripdata/2021-citibike-tripdata/202107-citibike-tripdata\n",
      "Attempting to unzip file at /Users/ashwin/Desktop/cpz_citibike/data/raw_citibike_data/2021-citibike-tripdata/2021-citibike-tripdata/202111-citibike-tripdata.zip\n",
      "Unzipping /Users/ashwin/Desktop/cpz_citibike/data/raw_citibike_data/2021-citibike-tripdata/2021-citibike-tripdata/202111-citibike-tripdata.zip to /Users/ashwin/Desktop/cpz_citibike/data/raw_citibike_data/2021-citibike-tripdata/2021-citibike-tripdata/202111-citibike-tripdata\n",
      "Attempting to unzip file at /Users/ashwin/Desktop/cpz_citibike/data/raw_citibike_data/2021-citibike-tripdata/2021-citibike-tripdata/202111-citibike-tripdata\n",
      "Attempting to unzip file at /Users/ashwin/Desktop/cpz_citibike/data/raw_citibike_data/2021-citibike-tripdata/2021-citibike-tripdata/202109-citibike-tripdata\n",
      "Attempting to unzip file at /Users/ashwin/Desktop/cpz_citibike/data/raw_citibike_data/2021-citibike-tripdata/2021-citibike-tripdata/202110-citibike-tripdata\n",
      "Attempting to unzip file at /Users/ashwin/Desktop/cpz_citibike/data/raw_citibike_data/2021-citibike-tripdata/2021-citibike-tripdata/202105-citibike-tripdata.zip\n",
      "Unzipping /Users/ashwin/Desktop/cpz_citibike/data/raw_citibike_data/2021-citibike-tripdata/2021-citibike-tripdata/202105-citibike-tripdata.zip to /Users/ashwin/Desktop/cpz_citibike/data/raw_citibike_data/2021-citibike-tripdata/2021-citibike-tripdata/202105-citibike-tripdata\n",
      "Attempting to unzip file at /Users/ashwin/Desktop/cpz_citibike/data/raw_citibike_data/2021-citibike-tripdata/2021-citibike-tripdata/202103-citibike-tripdata.zip\n",
      "Unzipping /Users/ashwin/Desktop/cpz_citibike/data/raw_citibike_data/2021-citibike-tripdata/2021-citibike-tripdata/202103-citibike-tripdata.zip to /Users/ashwin/Desktop/cpz_citibike/data/raw_citibike_data/2021-citibike-tripdata/2021-citibike-tripdata/202103-citibike-tripdata\n",
      "Attempting to unzip file at /Users/ashwin/Desktop/cpz_citibike/data/raw_citibike_data/2021-citibike-tripdata/2021-citibike-tripdata/202101-citibike-tripdata.zip\n",
      "Unzipping /Users/ashwin/Desktop/cpz_citibike/data/raw_citibike_data/2021-citibike-tripdata/2021-citibike-tripdata/202101-citibike-tripdata.zip to /Users/ashwin/Desktop/cpz_citibike/data/raw_citibike_data/2021-citibike-tripdata/2021-citibike-tripdata/202101-citibike-tripdata\n",
      "Attempting to unzip file at /Users/ashwin/Desktop/cpz_citibike/data/raw_citibike_data/2021-citibike-tripdata/2021-citibike-tripdata/202112-citibike-tripdata\n",
      "Attempting to unzip file at /Users/ashwin/Desktop/cpz_citibike/data/raw_citibike_data/2021-citibike-tripdata/2021-citibike-tripdata/202109-citibike-tripdata.zip\n",
      "Unzipping /Users/ashwin/Desktop/cpz_citibike/data/raw_citibike_data/2021-citibike-tripdata/2021-citibike-tripdata/202109-citibike-tripdata.zip to /Users/ashwin/Desktop/cpz_citibike/data/raw_citibike_data/2021-citibike-tripdata/2021-citibike-tripdata/202109-citibike-tripdata\n",
      "Attempting to unzip file at /Users/ashwin/Desktop/cpz_citibike/data/raw_citibike_data/2021-citibike-tripdata/2021-citibike-tripdata/202107-citibike-tripdata\n",
      "Attempting to unzip file at /Users/ashwin/Desktop/cpz_citibike/data/raw_citibike_data/2021-citibike-tripdata/2021-citibike-tripdata/202110-citibike-tripdata.zip\n",
      "Unzipping /Users/ashwin/Desktop/cpz_citibike/data/raw_citibike_data/2021-citibike-tripdata/2021-citibike-tripdata/202110-citibike-tripdata.zip to /Users/ashwin/Desktop/cpz_citibike/data/raw_citibike_data/2021-citibike-tripdata/2021-citibike-tripdata/202110-citibike-tripdata\n",
      "Attempting to unzip file at /Users/ashwin/Desktop/cpz_citibike/data/raw_citibike_data/2021-citibike-tripdata/2021-citibike-tripdata/202106-citibike-tripdata.zip\n",
      "Unzipping /Users/ashwin/Desktop/cpz_citibike/data/raw_citibike_data/2021-citibike-tripdata/2021-citibike-tripdata/202106-citibike-tripdata.zip to /Users/ashwin/Desktop/cpz_citibike/data/raw_citibike_data/2021-citibike-tripdata/2021-citibike-tripdata/202106-citibike-tripdata\n",
      "Attempting to unzip file at /Users/ashwin/Desktop/cpz_citibike/data/raw_citibike_data/2021-citibike-tripdata/2021-citibike-tripdata/202102-citibike-tripdata\n",
      "Attempting to unzip file at /Users/ashwin/Desktop/cpz_citibike/data/raw_citibike_data/2021-citibike-tripdata/2021-citibike-tripdata/202106-citibike-tripdata\n",
      "Attempting to unzip file at /Users/ashwin/Desktop/cpz_citibike/data/raw_citibike_data/2021-citibike-tripdata/2021-citibike-tripdata/202112-citibike-tripdata.zip\n",
      "Unzipping /Users/ashwin/Desktop/cpz_citibike/data/raw_citibike_data/2021-citibike-tripdata/2021-citibike-tripdata/202112-citibike-tripdata.zip to /Users/ashwin/Desktop/cpz_citibike/data/raw_citibike_data/2021-citibike-tripdata/2021-citibike-tripdata/202112-citibike-tripdata\n",
      "Attempting to unzip file at /Users/ashwin/Desktop/cpz_citibike/data/raw_citibike_data/2021-citibike-tripdata/2021-citibike-tripdata/202104-citibike-tripdata.zip\n",
      "Unzipping /Users/ashwin/Desktop/cpz_citibike/data/raw_citibike_data/2021-citibike-tripdata/2021-citibike-tripdata/202104-citibike-tripdata.zip to /Users/ashwin/Desktop/cpz_citibike/data/raw_citibike_data/2021-citibike-tripdata/2021-citibike-tripdata/202104-citibike-tripdata\n",
      "Attempting to unzip file at /Users/ashwin/Desktop/cpz_citibike/data/raw_citibike_data/2021-citibike-tripdata/2021-citibike-tripdata/202103-citibike-tripdata\n",
      "Attempting to unzip file at /Users/ashwin/Desktop/cpz_citibike/data/raw_citibike_data/2021-citibike-tripdata/2021-citibike-tripdata/202105-citibike-tripdata\n",
      "Attempting to unzip file at /Users/ashwin/Desktop/cpz_citibike/data/raw_citibike_data/2021-citibike-tripdata/2021-citibike-tripdata/202102-citibike-tripdata.zip\n",
      "Unzipping /Users/ashwin/Desktop/cpz_citibike/data/raw_citibike_data/2021-citibike-tripdata/2021-citibike-tripdata/202102-citibike-tripdata.zip to /Users/ashwin/Desktop/cpz_citibike/data/raw_citibike_data/2021-citibike-tripdata/2021-citibike-tripdata/202102-citibike-tripdata\n",
      "Attempting to unzip file at /Users/ashwin/Desktop/cpz_citibike/data/raw_citibike_data/2021-citibike-tripdata/2021-citibike-tripdata/202104-citibike-tripdata\n",
      "Attempting to unzip file at /Users/ashwin/Desktop/cpz_citibike/data/raw_citibike_data/2021-citibike-tripdata/2021-citibike-tripdata/202108-citibike-tripdata.zip\n",
      "Unzipping /Users/ashwin/Desktop/cpz_citibike/data/raw_citibike_data/2021-citibike-tripdata/2021-citibike-tripdata/202108-citibike-tripdata.zip to /Users/ashwin/Desktop/cpz_citibike/data/raw_citibike_data/2021-citibike-tripdata/2021-citibike-tripdata/202108-citibike-tripdata\n",
      "Attempting to unzip file at /Users/ashwin/Desktop/cpz_citibike/data/raw_citibike_data/2021-citibike-tripdata/2021-citibike-tripdata/202101-citibike-tripdata\n",
      "Attempting to unzip file at /Users/ashwin/Desktop/cpz_citibike/data/raw_citibike_data/2021-citibike-tripdata/__MACOSX\n",
      "Attempting to unzip file at /Users/ashwin/Desktop/cpz_citibike/data/raw_citibike_data/2021-citibike-tripdata/__MACOSX/2021-citibike-tripdata\n",
      "Attempting to unzip file at /Users/ashwin/Desktop/cpz_citibike/data/raw_citibike_data/2021-citibike-tripdata/__MACOSX/2021-citibike-tripdata/._202107-citibike-tripdata.zip\n"
     ]
    },
    {
     "ename": "BadZipFile",
     "evalue": "File is not a zip file",
     "output_type": "error",
     "traceback": [
      "\u001b[0;31m---------------------------------------------------------------------------\u001b[0m",
      "\u001b[0;31mBadZipFile\u001b[0m                                Traceback (most recent call last)",
      "Cell \u001b[0;32mIn[10], line 1\u001b[0m\n\u001b[0;32m----> 1\u001b[0m \u001b[43munzip_file_recursive\u001b[49m\u001b[43m(\u001b[49m\n\u001b[1;32m      2\u001b[0m \u001b[43m    \u001b[49m\u001b[38;5;124;43m\"\u001b[39;49m\u001b[38;5;124;43m/Users/ashwin/Desktop/cpz_citibike/data/raw_citibike_data/2021-citibike-tripdata\u001b[39;49m\u001b[38;5;124;43m\"\u001b[39;49m\n\u001b[1;32m      3\u001b[0m \u001b[43m)\u001b[49m\n",
      "Cell \u001b[0;32mIn[9], line 22\u001b[0m, in \u001b[0;36munzip_file_recursive\u001b[0;34m(zip_file_path)\u001b[0m\n\u001b[1;32m     20\u001b[0m item_path \u001b[38;5;241m=\u001b[39m os\u001b[38;5;241m.\u001b[39mpath\u001b[38;5;241m.\u001b[39mjoin(extract_location, item)\n\u001b[1;32m     21\u001b[0m \u001b[38;5;28;01mif\u001b[39;00m (item\u001b[38;5;241m.\u001b[39mendswith(\u001b[38;5;124m\"\u001b[39m\u001b[38;5;124m.zip\u001b[39m\u001b[38;5;124m\"\u001b[39m) \u001b[38;5;129;01mand\u001b[39;00m os\u001b[38;5;241m.\u001b[39mpath\u001b[38;5;241m.\u001b[39misfile(item_path)) \u001b[38;5;129;01mor\u001b[39;00m os\u001b[38;5;241m.\u001b[39mpath\u001b[38;5;241m.\u001b[39misdir(item_path):\n\u001b[0;32m---> 22\u001b[0m     \u001b[43munzip_file_recursive\u001b[49m\u001b[43m(\u001b[49m\u001b[43mitem_path\u001b[49m\u001b[43m)\u001b[49m\n",
      "Cell \u001b[0;32mIn[9], line 22\u001b[0m, in \u001b[0;36munzip_file_recursive\u001b[0;34m(zip_file_path)\u001b[0m\n\u001b[1;32m     20\u001b[0m item_path \u001b[38;5;241m=\u001b[39m os\u001b[38;5;241m.\u001b[39mpath\u001b[38;5;241m.\u001b[39mjoin(extract_location, item)\n\u001b[1;32m     21\u001b[0m \u001b[38;5;28;01mif\u001b[39;00m (item\u001b[38;5;241m.\u001b[39mendswith(\u001b[38;5;124m\"\u001b[39m\u001b[38;5;124m.zip\u001b[39m\u001b[38;5;124m\"\u001b[39m) \u001b[38;5;129;01mand\u001b[39;00m os\u001b[38;5;241m.\u001b[39mpath\u001b[38;5;241m.\u001b[39misfile(item_path)) \u001b[38;5;129;01mor\u001b[39;00m os\u001b[38;5;241m.\u001b[39mpath\u001b[38;5;241m.\u001b[39misdir(item_path):\n\u001b[0;32m---> 22\u001b[0m     \u001b[43munzip_file_recursive\u001b[49m\u001b[43m(\u001b[49m\u001b[43mitem_path\u001b[49m\u001b[43m)\u001b[49m\n",
      "Cell \u001b[0;32mIn[9], line 22\u001b[0m, in \u001b[0;36munzip_file_recursive\u001b[0;34m(zip_file_path)\u001b[0m\n\u001b[1;32m     20\u001b[0m item_path \u001b[38;5;241m=\u001b[39m os\u001b[38;5;241m.\u001b[39mpath\u001b[38;5;241m.\u001b[39mjoin(extract_location, item)\n\u001b[1;32m     21\u001b[0m \u001b[38;5;28;01mif\u001b[39;00m (item\u001b[38;5;241m.\u001b[39mendswith(\u001b[38;5;124m\"\u001b[39m\u001b[38;5;124m.zip\u001b[39m\u001b[38;5;124m\"\u001b[39m) \u001b[38;5;129;01mand\u001b[39;00m os\u001b[38;5;241m.\u001b[39mpath\u001b[38;5;241m.\u001b[39misfile(item_path)) \u001b[38;5;129;01mor\u001b[39;00m os\u001b[38;5;241m.\u001b[39mpath\u001b[38;5;241m.\u001b[39misdir(item_path):\n\u001b[0;32m---> 22\u001b[0m     \u001b[43munzip_file_recursive\u001b[49m\u001b[43m(\u001b[49m\u001b[43mitem_path\u001b[49m\u001b[43m)\u001b[49m\n",
      "Cell \u001b[0;32mIn[9], line 12\u001b[0m, in \u001b[0;36munzip_file_recursive\u001b[0;34m(zip_file_path)\u001b[0m\n\u001b[1;32m     10\u001b[0m \u001b[38;5;28;01mif\u001b[39;00m zip_file_path\u001b[38;5;241m.\u001b[39mendswith(\u001b[38;5;124m\"\u001b[39m\u001b[38;5;124m.zip\u001b[39m\u001b[38;5;124m\"\u001b[39m):\n\u001b[1;32m     11\u001b[0m     \u001b[38;5;28;01mif\u001b[39;00m \u001b[38;5;129;01mnot\u001b[39;00m os\u001b[38;5;241m.\u001b[39mpath\u001b[38;5;241m.\u001b[39misfile(extract_location) \u001b[38;5;129;01mor\u001b[39;00m \u001b[38;5;129;01mnot\u001b[39;00m os\u001b[38;5;241m.\u001b[39mpath\u001b[38;5;241m.\u001b[39misdir(extract_location):\n\u001b[0;32m---> 12\u001b[0m         \u001b[38;5;28;01mwith\u001b[39;00m \u001b[43mzipfile\u001b[49m\u001b[38;5;241;43m.\u001b[39;49m\u001b[43mZipFile\u001b[49m\u001b[43m(\u001b[49m\u001b[43mzip_file_path\u001b[49m\u001b[43m,\u001b[49m\u001b[43m \u001b[49m\u001b[38;5;124;43m\"\u001b[39;49m\u001b[38;5;124;43mr\u001b[39;49m\u001b[38;5;124;43m\"\u001b[39;49m\u001b[43m)\u001b[49m \u001b[38;5;28;01mas\u001b[39;00m zip_ref:\n\u001b[1;32m     13\u001b[0m             \u001b[38;5;28mprint\u001b[39m(\u001b[38;5;124mf\u001b[39m\u001b[38;5;124m\"\u001b[39m\u001b[38;5;124mUnzipping \u001b[39m\u001b[38;5;132;01m{\u001b[39;00mzip_file_path\u001b[38;5;132;01m}\u001b[39;00m\u001b[38;5;124m to \u001b[39m\u001b[38;5;132;01m{\u001b[39;00mextract_location\u001b[38;5;132;01m}\u001b[39;00m\u001b[38;5;124m\"\u001b[39m)\n\u001b[1;32m     14\u001b[0m             zip_ref\u001b[38;5;241m.\u001b[39mextractall(extract_location)\n",
      "File \u001b[0;32m~/opt/anaconda3/envs/cpz-citibike/lib/python3.13/zipfile/__init__.py:1385\u001b[0m, in \u001b[0;36mZipFile.__init__\u001b[0;34m(self, file, mode, compression, allowZip64, compresslevel, strict_timestamps, metadata_encoding)\u001b[0m\n\u001b[1;32m   1383\u001b[0m \u001b[38;5;28;01mtry\u001b[39;00m:\n\u001b[1;32m   1384\u001b[0m     \u001b[38;5;28;01mif\u001b[39;00m mode \u001b[38;5;241m==\u001b[39m \u001b[38;5;124m'\u001b[39m\u001b[38;5;124mr\u001b[39m\u001b[38;5;124m'\u001b[39m:\n\u001b[0;32m-> 1385\u001b[0m         \u001b[38;5;28;43mself\u001b[39;49m\u001b[38;5;241;43m.\u001b[39;49m\u001b[43m_RealGetContents\u001b[49m\u001b[43m(\u001b[49m\u001b[43m)\u001b[49m\n\u001b[1;32m   1386\u001b[0m     \u001b[38;5;28;01melif\u001b[39;00m mode \u001b[38;5;129;01min\u001b[39;00m (\u001b[38;5;124m'\u001b[39m\u001b[38;5;124mw\u001b[39m\u001b[38;5;124m'\u001b[39m, \u001b[38;5;124m'\u001b[39m\u001b[38;5;124mx\u001b[39m\u001b[38;5;124m'\u001b[39m):\n\u001b[1;32m   1387\u001b[0m         \u001b[38;5;66;03m# set the modified flag so central directory gets written\u001b[39;00m\n\u001b[1;32m   1388\u001b[0m         \u001b[38;5;66;03m# even if no files are added to the archive\u001b[39;00m\n\u001b[1;32m   1389\u001b[0m         \u001b[38;5;28mself\u001b[39m\u001b[38;5;241m.\u001b[39m_didModify \u001b[38;5;241m=\u001b[39m \u001b[38;5;28;01mTrue\u001b[39;00m\n",
      "File \u001b[0;32m~/opt/anaconda3/envs/cpz-citibike/lib/python3.13/zipfile/__init__.py:1452\u001b[0m, in \u001b[0;36mZipFile._RealGetContents\u001b[0;34m(self)\u001b[0m\n\u001b[1;32m   1450\u001b[0m     \u001b[38;5;28;01mraise\u001b[39;00m BadZipFile(\u001b[38;5;124m\"\u001b[39m\u001b[38;5;124mFile is not a zip file\u001b[39m\u001b[38;5;124m\"\u001b[39m)\n\u001b[1;32m   1451\u001b[0m \u001b[38;5;28;01mif\u001b[39;00m \u001b[38;5;129;01mnot\u001b[39;00m endrec:\n\u001b[0;32m-> 1452\u001b[0m     \u001b[38;5;28;01mraise\u001b[39;00m BadZipFile(\u001b[38;5;124m\"\u001b[39m\u001b[38;5;124mFile is not a zip file\u001b[39m\u001b[38;5;124m\"\u001b[39m)\n\u001b[1;32m   1453\u001b[0m \u001b[38;5;28;01mif\u001b[39;00m \u001b[38;5;28mself\u001b[39m\u001b[38;5;241m.\u001b[39mdebug \u001b[38;5;241m>\u001b[39m \u001b[38;5;241m1\u001b[39m:\n\u001b[1;32m   1454\u001b[0m     \u001b[38;5;28mprint\u001b[39m(endrec)\n",
      "\u001b[0;31mBadZipFile\u001b[0m: File is not a zip file"
     ]
    }
   ],
   "source": [
    "unzip_file_recursive(\n",
    "    RAW_DATA_FOLDER\n",
    ")"
   ]
  }
 ],
 "metadata": {
  "kernelspec": {
   "display_name": "cpz-citibike",
   "language": "python",
   "name": "python3"
  },
  "language_info": {
   "codemirror_mode": {
    "name": "ipython",
    "version": 3
   },
   "file_extension": ".py",
   "mimetype": "text/x-python",
   "name": "python",
   "nbconvert_exporter": "python",
   "pygments_lexer": "ipython3",
   "version": "3.13.2"
  }
 },
 "nbformat": 4,
 "nbformat_minor": 2
}
