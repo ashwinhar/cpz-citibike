{
 "cells": [
  {
   "cell_type": "code",
   "execution_count": 1,
   "metadata": {},
   "outputs": [],
   "source": [
    "from src_components.data_extraction.extract import *\n",
    "from src_constants.extract_constants import *"
   ]
  },
  {
   "cell_type": "code",
   "execution_count": 2,
   "metadata": {},
   "outputs": [
    {
     "name": "stdout",
     "output_type": "stream",
     "text": [
      "Found 139 zip files.\n"
     ]
    }
   ],
   "source": [
    "existing_files = get_existing_citibike_files(RAW_DATA_FOLDER)\n",
    "downloadable_files = find_all_downloadable_files(CITIBIKE_URL)"
   ]
  },
  {
   "cell_type": "code",
   "execution_count": 4,
   "metadata": {},
   "outputs": [
    {
     "name": "stdout",
     "output_type": "stream",
     "text": [
      "['2020-citibike-tripdata.zip', '2021-citibike-tripdata.zip', '2022-citibike-tripdata.zip', '2023-citibike-tripdata.zip', '202401-citibike-tripdata.csv.zip', '202402-citibike-tripdata.csv.zip', '202403-citibike-tripdata.csv.zip', '202404-citibike-tripdata.csv.zip', '202405-citibike-tripdata.zip', '202406-citibike-tripdata.zip', '202407-citibike-tripdata.zip', '202408-citibike-tripdata.zip', '202409-citibike-tripdata.zip', '202410-citibike-tripdata.zip', '202411-citibike-tripdata.zip', '202412-citibike-tripdata.zip', '202501-citibike-tripdata.zip', '202502-citibike-tripdata.zip']\n"
     ]
    }
   ],
   "source": [
    "files_of_interest = find_files_of_interest(downloadable_files, re_pattern=RE_PATTERN, year_floor=YEAR_FLOOR)\n",
    "print(files_of_interest)"
   ]
  },
  {
   "cell_type": "code",
   "execution_count": 5,
   "metadata": {},
   "outputs": [
    {
     "name": "stdout",
     "output_type": "stream",
     "text": [
      "Found 139 zip files.\n"
     ]
    },
    {
     "ename": "TypeError",
     "evalue": "first argument must be string or compiled pattern",
     "output_type": "error",
     "traceback": [
      "\u001b[0;31m---------------------------------------------------------------------------\u001b[0m",
      "\u001b[0;31mTypeError\u001b[0m                                 Traceback (most recent call last)",
      "Cell \u001b[0;32mIn[5], line 1\u001b[0m\n\u001b[0;32m----> 1\u001b[0m \u001b[43mdownload_files\u001b[49m\u001b[43m(\u001b[49m\u001b[43mRAW_DATA_FOLDER\u001b[49m\u001b[43m,\u001b[49m\u001b[43m \u001b[49m\u001b[43mCITIBIKE_URL\u001b[49m\u001b[43m,\u001b[49m\u001b[43m \u001b[49m\u001b[43mdownload_option\u001b[49m\u001b[38;5;241;43m=\u001b[39;49m\u001b[43m \u001b[49m\u001b[38;5;124;43m\"\u001b[39;49m\u001b[38;5;124;43mmissing\u001b[39;49m\u001b[38;5;124;43m\"\u001b[39;49m\u001b[43m)\u001b[49m\n",
      "File \u001b[0;32m~/Desktop/cpz_citibike/src/src_components/data_extraction/extract.py:123\u001b[0m, in \u001b[0;36mdownload_files\u001b[0;34m(data_folder, url, download_option, file_names)\u001b[0m\n\u001b[1;32m    121\u001b[0m existing_files \u001b[38;5;241m=\u001b[39m get_existing_citibike_files(data_folder)\n\u001b[1;32m    122\u001b[0m downloadable_files \u001b[38;5;241m=\u001b[39m find_all_downloadable_files(url)\n\u001b[0;32m--> 123\u001b[0m files_of_interest \u001b[38;5;241m=\u001b[39m \u001b[43mfind_files_of_interest\u001b[49m\u001b[43m(\u001b[49m\u001b[43mdownloadable_files\u001b[49m\u001b[43m,\u001b[49m\u001b[43m \u001b[49m\u001b[43mYEAR_FLOOR\u001b[49m\u001b[43m)\u001b[49m\n\u001b[1;32m    125\u001b[0m \u001b[38;5;28;01mif\u001b[39;00m download_option \u001b[38;5;241m==\u001b[39m \u001b[38;5;124m\"\u001b[39m\u001b[38;5;124mmissing\u001b[39m\u001b[38;5;124m\"\u001b[39m:\n\u001b[1;32m    126\u001b[0m     files_to_download \u001b[38;5;241m=\u001b[39m [\n\u001b[1;32m    127\u001b[0m         file \u001b[38;5;28;01mfor\u001b[39;00m file \u001b[38;5;129;01min\u001b[39;00m files_of_interest \u001b[38;5;28;01mif\u001b[39;00m file \u001b[38;5;129;01mnot\u001b[39;00m \u001b[38;5;129;01min\u001b[39;00m existing_files\n\u001b[1;32m    128\u001b[0m     ]\n",
      "File \u001b[0;32m~/Desktop/cpz_citibike/src/src_components/data_extraction/extract.py:80\u001b[0m, in \u001b[0;36mfind_files_of_interest\u001b[0;34m(zip_links, re_pattern, year_floor)\u001b[0m\n\u001b[1;32m     68\u001b[0m \u001b[38;5;28;01mdef\u001b[39;00m\u001b[38;5;250m \u001b[39m\u001b[38;5;21mfind_files_of_interest\u001b[39m(\n\u001b[1;32m     69\u001b[0m     zip_links: \u001b[38;5;28mlist\u001b[39m, re_pattern: \u001b[38;5;28mstr\u001b[39m \u001b[38;5;241m=\u001b[39m RE_PATTERN, year_floor: \u001b[38;5;28mint\u001b[39m \u001b[38;5;241m=\u001b[39m \u001b[38;5;241m0\u001b[39m\n\u001b[1;32m     70\u001b[0m ) \u001b[38;5;241m-\u001b[39m\u001b[38;5;241m>\u001b[39m \u001b[38;5;28mlist\u001b[39m:\n\u001b[1;32m     71\u001b[0m \u001b[38;5;250m    \u001b[39m\u001b[38;5;124;03m\"\"\"Filter available zip files\u001b[39;00m\n\u001b[1;32m     72\u001b[0m \n\u001b[1;32m     73\u001b[0m \u001b[38;5;124;03m    Args:\u001b[39;00m\n\u001b[0;32m   (...)\u001b[0m\n\u001b[1;32m     78\u001b[0m \u001b[38;5;124;03m        list: Filtered list of zip_links *without* link prefix\u001b[39;00m\n\u001b[1;32m     79\u001b[0m \u001b[38;5;124;03m    \"\"\"\u001b[39;00m\n\u001b[0;32m---> 80\u001b[0m     filtered_links \u001b[38;5;241m=\u001b[39m [link[\u001b[38;5;241m34\u001b[39m:] \u001b[38;5;28;01mfor\u001b[39;00m link \u001b[38;5;129;01min\u001b[39;00m zip_links \u001b[38;5;28;01mif\u001b[39;00m \u001b[43mre\u001b[49m\u001b[38;5;241;43m.\u001b[39;49m\u001b[43mmatch\u001b[49m\u001b[43m(\u001b[49m\u001b[43mre_pattern\u001b[49m\u001b[43m,\u001b[49m\u001b[43m \u001b[49m\u001b[43mlink\u001b[49m\u001b[43m)\u001b[49m]\n\u001b[1;32m     81\u001b[0m     year_bounded_links \u001b[38;5;241m=\u001b[39m [\n\u001b[1;32m     82\u001b[0m         link \u001b[38;5;28;01mfor\u001b[39;00m link \u001b[38;5;129;01min\u001b[39;00m filtered_links \u001b[38;5;28;01mif\u001b[39;00m \u001b[38;5;28mint\u001b[39m(link[:\u001b[38;5;241m4\u001b[39m]) \u001b[38;5;241m>\u001b[39m\u001b[38;5;241m=\u001b[39m year_floor\n\u001b[1;32m     83\u001b[0m     ]\n\u001b[1;32m     85\u001b[0m     \u001b[38;5;28;01mreturn\u001b[39;00m year_bounded_links\n",
      "File \u001b[0;32m~/opt/anaconda3/envs/cpz-citibike/lib/python3.13/re/__init__.py:167\u001b[0m, in \u001b[0;36mmatch\u001b[0;34m(pattern, string, flags)\u001b[0m\n\u001b[1;32m    164\u001b[0m \u001b[38;5;28;01mdef\u001b[39;00m\u001b[38;5;250m \u001b[39m\u001b[38;5;21mmatch\u001b[39m(pattern, string, flags\u001b[38;5;241m=\u001b[39m\u001b[38;5;241m0\u001b[39m):\n\u001b[1;32m    165\u001b[0m \u001b[38;5;250m    \u001b[39m\u001b[38;5;124;03m\"\"\"Try to apply the pattern at the start of the string, returning\u001b[39;00m\n\u001b[1;32m    166\u001b[0m \u001b[38;5;124;03m    a Match object, or None if no match was found.\"\"\"\u001b[39;00m\n\u001b[0;32m--> 167\u001b[0m     \u001b[38;5;28;01mreturn\u001b[39;00m \u001b[43m_compile\u001b[49m\u001b[43m(\u001b[49m\u001b[43mpattern\u001b[49m\u001b[43m,\u001b[49m\u001b[43m \u001b[49m\u001b[43mflags\u001b[49m\u001b[43m)\u001b[49m\u001b[38;5;241m.\u001b[39mmatch(string)\n",
      "File \u001b[0;32m~/opt/anaconda3/envs/cpz-citibike/lib/python3.13/re/__init__.py:349\u001b[0m, in \u001b[0;36m_compile\u001b[0;34m(pattern, flags)\u001b[0m\n\u001b[1;32m    347\u001b[0m     \u001b[38;5;28;01mreturn\u001b[39;00m pattern\n\u001b[1;32m    348\u001b[0m \u001b[38;5;28;01mif\u001b[39;00m \u001b[38;5;129;01mnot\u001b[39;00m _compiler\u001b[38;5;241m.\u001b[39misstring(pattern):\n\u001b[0;32m--> 349\u001b[0m     \u001b[38;5;28;01mraise\u001b[39;00m \u001b[38;5;167;01mTypeError\u001b[39;00m(\u001b[38;5;124m\"\u001b[39m\u001b[38;5;124mfirst argument must be string or compiled pattern\u001b[39m\u001b[38;5;124m\"\u001b[39m)\n\u001b[1;32m    350\u001b[0m p \u001b[38;5;241m=\u001b[39m _compiler\u001b[38;5;241m.\u001b[39mcompile(pattern, flags)\n\u001b[1;32m    351\u001b[0m \u001b[38;5;28;01mif\u001b[39;00m flags \u001b[38;5;241m&\u001b[39m DEBUG:\n",
      "\u001b[0;31mTypeError\u001b[0m: first argument must be string or compiled pattern"
     ]
    }
   ],
   "source": [
    "download_files(RAW_DATA_FOLDER, CITIBIKE_URL, download_option= \"missing\")"
   ]
  },
  {
   "cell_type": "code",
   "execution_count": null,
   "metadata": {},
   "outputs": [],
   "source": []
  }
 ],
 "metadata": {
  "kernelspec": {
   "display_name": "cpz-citibike",
   "language": "python",
   "name": "python3"
  },
  "language_info": {
   "codemirror_mode": {
    "name": "ipython",
    "version": 3
   },
   "file_extension": ".py",
   "mimetype": "text/x-python",
   "name": "python",
   "nbconvert_exporter": "python",
   "pygments_lexer": "ipython3",
   "version": "3.13.2"
  }
 },
 "nbformat": 4,
 "nbformat_minor": 2
}
