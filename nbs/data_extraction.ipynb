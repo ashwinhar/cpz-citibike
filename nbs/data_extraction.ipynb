{
 "cells": [
  {
   "cell_type": "code",
   "execution_count": null,
   "metadata": {},
   "outputs": [],
   "source": [
    "from src_components.data_extraction.extract import (\n",
    "    download_files,\n",
    "    unzip_file_recursive\n",
    ")\n",
    "from src_components.data_extraction.organize import (cleanup_and_organize)\n",
    "from src_constants.extract_constants import (\n",
    "    CITIBIKE_URL,\n",
    "    RAW_DATA_FOLDER,\n",
    ")"
   ]
  },
  {
   "cell_type": "code",
   "execution_count": null,
   "metadata": {},
   "outputs": [],
   "source": [
    "download_files(RAW_DATA_FOLDER, CITIBIKE_URL)"
   ]
  },
  {
   "cell_type": "markdown",
   "metadata": {},
   "source": [
    "**PAUSE HERE** A more intelligent unzipping procedure is on the docket. If this is the first time you're running this, pass in `RAW_DATA_FOLDER` to `unzip_file_recursive`. Otherwise, put in the *absolute path* of the zip file you just downloaded."
   ]
  },
  {
   "cell_type": "code",
   "execution_count": null,
   "metadata": {},
   "outputs": [],
   "source": [
    "unzip_file_recursive()"
   ]
  },
  {
   "cell_type": "code",
   "execution_count": null,
   "metadata": {},
   "outputs": [],
   "source": [
    "cleanup_and_organize()"
   ]
  }
 ],
 "metadata": {
  "kernelspec": {
   "display_name": "cpz-citibike-2",
   "language": "python",
   "name": "python3"
  },
  "language_info": {
   "codemirror_mode": {
    "name": "ipython",
    "version": 3
   },
   "file_extension": ".py",
   "mimetype": "text/x-python",
   "name": "python",
   "nbconvert_exporter": "python",
   "pygments_lexer": "ipython3",
   "version": "3.11.11"
  }
 },
 "nbformat": 4,
 "nbformat_minor": 2
}
