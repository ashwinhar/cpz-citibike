{
 "cells": [
  {
   "cell_type": "code",
   "execution_count": 21,
   "metadata": {},
   "outputs": [
    {
     "name": "stderr",
     "output_type": "stream",
     "text": [
      "/Users/ashwin/Desktop/cpz_citibike/src/src_constants/extract_constants.py:8: SyntaxWarning: invalid escape sequence '\\.'\n",
      "  \"https://s3\\.amazonaws\\.com/tripdata/\\d{4,6}-citibike-tripdata(?:\\.csv)?\\.zip\"\n"
     ]
    }
   ],
   "source": [
    "from src_components.data_extraction.extract import *\n",
    "from src_constants.extract_constants import *\n",
    "import os\n",
    "import requests\n",
    "import re\n",
    "\n",
    "from selenium import webdriver\n",
    "from selenium.webdriver.chrome.service import Service\n",
    "from webdriver_manager.chrome import ChromeDriverManager\n",
    "from selenium.webdriver.common.by import By"
   ]
  },
  {
   "cell_type": "code",
   "execution_count": 33,
   "metadata": {},
   "outputs": [],
   "source": [
    "def get_existing_citibike_files(folder_path: str = RAW_DATA_FOLDER) -> list:\n",
    "    \"\"\"\n",
    "    Return list of existing data in RAW_DATA_FOLDER\n",
    "\n",
    "    Returns:\n",
    "        list of file names\n",
    "    \"\"\"\n",
    "\n",
    "    zip_files = [\n",
    "        f\n",
    "        for f in os.listdir(folder_path)\n",
    "        if os.path.isfile(os.path.join(folder_path, f)) and f.endswith(\".zip\")\n",
    "    ]\n",
    "\n",
    "    return zip_files"
   ]
  },
  {
   "cell_type": "code",
   "execution_count": 34,
   "metadata": {},
   "outputs": [],
   "source": [
    "def find_all_downloadable_files(url: str) -> list:\n",
    "    \"\"\"Go to URL for CitiBike data and find all available .zip files\n",
    "\n",
    "    Args:\n",
    "        url (str): URL to visit\n",
    "    \n",
    "    Returns:\n",
    "        list: List of links where downloadable files live \n",
    "    \"\"\"\n",
    "    service = Service(ChromeDriverManager().install())\n",
    "    options = webdriver.ChromeOptions()\n",
    "    options.add_argument(\"--headless\")\n",
    "\n",
    "    driver = webdriver.Chrome(service=service, options=options)\n",
    "    driver.get(CITIBIKE_URL)\n",
    "\n",
    "    driver.implicitly_wait(5)\n",
    "\n",
    "    zip_links = [\n",
    "        elem.get_attribute(\"href\")\n",
    "        for elem in driver.find_elements(By.TAG_NAME, \"a\")\n",
    "        if elem.get_attribute(\"href\") and elem.get_attribute(\"href\").endswith(\".zip\")\n",
    "    ]\n",
    "\n",
    "    driver.quit()\n",
    "\n",
    "    print(f\"Found {len(zip_links)} zip files.\")\n",
    "\n",
    "    return zip_links"
   ]
  },
  {
   "cell_type": "code",
   "execution_count": null,
   "metadata": {},
   "outputs": [],
   "source": [
    "def find_files_of_interest(zip_links: list, re_pattern: str, year_floor: int=0) -> list:\n",
    "    \"\"\"Filter available zip files \n",
    "    \n",
    "    Args:\n",
    "        zip_links (list): List of all zip_links at CitiBike URL\n",
    "        re_pattern (str): RegEx pattern to match files of interest\n",
    "        year_floor (int): First year of interest. Files indexed before this year are out-of-bounds. Set to 0 by default\n",
    "    Returns:\n",
    "        list: Filtered list of zip_links *without* link prefix\n",
    "    \"\"\"\n",
    "    filtered_links = [link[34:] for link in zip_links if re.match(re_pattern, link)]\n",
    "    year_bounded_links = [\n",
    "        link for link in filtered_links if int(link[:4]) >= year_floor\n",
    "    ]\n",
    "\n",
    "    return year_bounded_links"
   ]
  },
  {
   "cell_type": "code",
   "execution_count": 36,
   "metadata": {},
   "outputs": [],
   "source": [
    "def download_citibike_file(download_url: str, save_path: str) -> None:\n",
    "    \"\"\"Download single CitiBike data .zip file based on URL\n",
    "\n",
    "    Args:\n",
    "        download_url (str): URL of specific .zip file\n",
    "        save_path (str): Where the .zip file will be saved locally\n",
    "    \"\"\"\n",
    "\n",
    "    # Download the file\n",
    "    response = requests.get(download_url, stream=True)\n",
    "    with open(save_path, \"wb\") as file:\n",
    "        for chunk in response.iter_content(chunk_size=8192):\n",
    "            file.write(chunk)\n",
    "\n",
    "    print(f\"Downloaded {download_url} to {save_path}\")"
   ]
  },
  {
   "cell_type": "code",
   "execution_count": null,
   "metadata": {},
   "outputs": [
    {
     "ename": "SyntaxError",
     "evalue": "invalid syntax (3449284715.py, line 15)",
     "output_type": "error",
     "traceback": [
      "\u001b[0;36m  Cell \u001b[0;32mIn[30], line 15\u001b[0;36m\u001b[0m\n\u001b[0;31m    files_to_download = [file for file in files_of_interest where file not in existing_files]\u001b[0m\n\u001b[0m                                                            ^\u001b[0m\n\u001b[0;31mSyntaxError\u001b[0m\u001b[0;31m:\u001b[0m invalid syntax\n"
     ]
    }
   ],
   "source": [
    "def download_files(data_folder: str, url:str, download_option:str='missing', file_names:list=None) -> None:\n",
    "    \"\"\"Execute download process\n",
    "\n",
    "    Args:\n",
    "        data_folder (str): Full file path of raw data folder, typically src_constants.RAW_DATA_FOLDER\n",
    "        url (str): URL to download from, typically src_constants.extract_constants.CITIBIKE_URL\n",
    "        download_option (str): Either \"missing\", which downloads \"files of interest\" that are missing from ../data/raw_citibike_data/ or \"specific\",\n",
    "            which requires user to pass in a list of specific file names *without* the URL_PREFIX\n",
    "        file_names (list): List of specific file names. Only relevant if you set download_option='specific'\n",
    "    \"\"\"\n",
    "    existing_files = get_existing_citibike_files(data_folder)\n",
    "    downloadable_files = find_all_downloadable_files(url)\n",
    "    files_of_interest = find_files_of_interest(downloadable_files, YEAR_FLOOR)\n",
    "\n",
    "    if download_option == 'missing':    \n",
    "        files_to_download = [file for file in files_of_interest if file not in existing_files]\n",
    "    else:\n",
    "        files_to_download = file_names\n",
    "\n",
    "    for file in files_to_download:\n",
    "        if file in downloadable_files and file not in existing_files:\n",
    "\n",
    "            file_download_path = CITIBIKE_URL_PREFIX + file\n",
    "            save_path = os.path.join(RAW_DATA_FOLDER, file)\n",
    "            print(f\"Downloading {file_download_path} to {save_path}\")\n",
    "            download_citibike_file(file_download_path, save_path)\n",
    "        else:\n",
    "            print(f\"{file} either not available for download or already in {RAW_DATA_FOLDER}\")\n",
    "           \n"
   ]
  },
  {
   "cell_type": "code",
   "execution_count": null,
   "metadata": {},
   "outputs": [
    {
     "name": "stdout",
     "output_type": "stream",
     "text": [
      "Found 137 zip files.\n"
     ]
    },
    {
     "ename": "TypeError",
     "evalue": "find_files_of_interest() missing 1 required positional argument: 'year_floor'",
     "output_type": "error",
     "traceback": [
      "\u001b[0;31m---------------------------------------------------------------------------\u001b[0m",
      "\u001b[0;31mTypeError\u001b[0m                                 Traceback (most recent call last)",
      "Cell \u001b[0;32mIn[42], line 3\u001b[0m\n\u001b[1;32m      1\u001b[0m existing_files \u001b[38;5;241m=\u001b[39m get_existing_citibike_files(RAW_DATA_FOLDER)\n\u001b[1;32m      2\u001b[0m downloadable_files \u001b[38;5;241m=\u001b[39m find_all_downloadable_files(CITIBIKE_URL)\n\u001b[0;32m----> 3\u001b[0m files_of_interest \u001b[38;5;241m=\u001b[39m \u001b[43mfind_files_of_interest\u001b[49m\u001b[43m(\u001b[49m\u001b[43mdownloadable_files\u001b[49m\u001b[43m,\u001b[49m\u001b[43m \u001b[49m\u001b[43mYEAR_FLOOR\u001b[49m\u001b[43m)\u001b[49m\n",
      "\u001b[0;31mTypeError\u001b[0m: find_files_of_interest() missing 1 required positional argument: 'year_floor'"
     ]
    }
   ],
   "source": [
    "existing_files = get_existing_citibike_files(RAW_DATA_FOLDER)\n",
    "downloadable_files = find_all_downloadable_files(CITIBIKE_URL)"
   ]
  },
  {
   "cell_type": "code",
   "execution_count": 44,
   "metadata": {},
   "outputs": [],
   "source": [
    "files_of_interest = find_files_of_interest(downloadable_files, re_pattern=RE_PATTERN, year_floor=YEAR_FLOOR)"
   ]
  },
  {
   "cell_type": "code",
   "execution_count": 54,
   "metadata": {},
   "outputs": [],
   "source": [
    "download_option = 'missing'\n",
    "# file_names = ['2013-citibike-tripdata.zip']\n",
    "if download_option == 'missing':    \n",
    "    files_to_download = [file for file in files_of_interest if file not in existing_files]\n",
    "else:\n",
    "    files_to_download = file_names"
   ]
  },
  {
   "cell_type": "code",
   "execution_count": 55,
   "metadata": {},
   "outputs": [
    {
     "data": {
      "text/plain": [
       "['2020-citibike-tripdata.zip',\n",
       " '2021-citibike-tripdata.zip',\n",
       " '2022-citibike-tripdata.zip',\n",
       " '2023-citibike-tripdata.zip',\n",
       " '202401-citibike-tripdata.csv.zip',\n",
       " '202402-citibike-tripdata.csv.zip',\n",
       " '202403-citibike-tripdata.csv.zip',\n",
       " '202404-citibike-tripdata.csv.zip',\n",
       " '202405-citibike-tripdata.zip',\n",
       " '202406-citibike-tripdata.zip',\n",
       " '202407-citibike-tripdata.zip',\n",
       " '202408-citibike-tripdata.zip',\n",
       " '202409-citibike-tripdata.zip',\n",
       " '202410-citibike-tripdata.zip',\n",
       " '202411-citibike-tripdata.zip',\n",
       " '202412-citibike-tripdata.zip',\n",
       " '202501-citibike-tripdata.zip']"
      ]
     },
     "execution_count": 55,
     "metadata": {},
     "output_type": "execute_result"
    }
   ],
   "source": [
    "files_to_download"
   ]
  },
  {
   "cell_type": "code",
   "execution_count": 56,
   "metadata": {},
   "outputs": [
    {
     "name": "stdout",
     "output_type": "stream",
     "text": [
      "2020-citibike-tripdata.zip either not available for download or already in /Users/ashwin/Desktop/cpz_citibike/data/raw_citibike_data\n",
      "2021-citibike-tripdata.zip either not available for download or already in /Users/ashwin/Desktop/cpz_citibike/data/raw_citibike_data\n",
      "2022-citibike-tripdata.zip either not available for download or already in /Users/ashwin/Desktop/cpz_citibike/data/raw_citibike_data\n",
      "2023-citibike-tripdata.zip either not available for download or already in /Users/ashwin/Desktop/cpz_citibike/data/raw_citibike_data\n",
      "202401-citibike-tripdata.csv.zip either not available for download or already in /Users/ashwin/Desktop/cpz_citibike/data/raw_citibike_data\n",
      "202402-citibike-tripdata.csv.zip either not available for download or already in /Users/ashwin/Desktop/cpz_citibike/data/raw_citibike_data\n",
      "202403-citibike-tripdata.csv.zip either not available for download or already in /Users/ashwin/Desktop/cpz_citibike/data/raw_citibike_data\n",
      "202404-citibike-tripdata.csv.zip either not available for download or already in /Users/ashwin/Desktop/cpz_citibike/data/raw_citibike_data\n",
      "202405-citibike-tripdata.zip either not available for download or already in /Users/ashwin/Desktop/cpz_citibike/data/raw_citibike_data\n",
      "202406-citibike-tripdata.zip either not available for download or already in /Users/ashwin/Desktop/cpz_citibike/data/raw_citibike_data\n",
      "202407-citibike-tripdata.zip either not available for download or already in /Users/ashwin/Desktop/cpz_citibike/data/raw_citibike_data\n",
      "202408-citibike-tripdata.zip either not available for download or already in /Users/ashwin/Desktop/cpz_citibike/data/raw_citibike_data\n",
      "202409-citibike-tripdata.zip either not available for download or already in /Users/ashwin/Desktop/cpz_citibike/data/raw_citibike_data\n",
      "202410-citibike-tripdata.zip either not available for download or already in /Users/ashwin/Desktop/cpz_citibike/data/raw_citibike_data\n",
      "202411-citibike-tripdata.zip either not available for download or already in /Users/ashwin/Desktop/cpz_citibike/data/raw_citibike_data\n",
      "202412-citibike-tripdata.zip either not available for download or already in /Users/ashwin/Desktop/cpz_citibike/data/raw_citibike_data\n",
      "202501-citibike-tripdata.zip either not available for download or already in /Users/ashwin/Desktop/cpz_citibike/data/raw_citibike_data\n"
     ]
    }
   ],
   "source": [
    "for file in files_to_download:\n",
    "    if file in downloadable_files and file not in existing_files:\n",
    "\n",
    "        file_download_path = CITIBIKE_URL_PREFIX + file\n",
    "        save_path = os.path.join(RAW_DATA_FOLDER, file)\n",
    "        print(f\"Downloading {file_download_path} to {save_path}\")\n",
    "        download_citibike_file(file_download_path, save_path)\n",
    "    else:\n",
    "        print(\n",
    "            f\"{file} either not available for download or already in {RAW_DATA_FOLDER}\"\n",
    "        )"
   ]
  },
  {
   "cell_type": "code",
   "execution_count": null,
   "metadata": {},
   "outputs": [],
   "source": []
  }
 ],
 "metadata": {
  "kernelspec": {
   "display_name": "cpz-citibike",
   "language": "python",
   "name": "python3"
  },
  "language_info": {
   "codemirror_mode": {
    "name": "ipython",
    "version": 3
   },
   "file_extension": ".py",
   "mimetype": "text/x-python",
   "name": "python",
   "nbconvert_exporter": "python",
   "pygments_lexer": "ipython3",
   "version": "3.13.2"
  }
 },
 "nbformat": 4,
 "nbformat_minor": 2
}
